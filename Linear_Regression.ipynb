{
  "nbformat": 4,
  "nbformat_minor": 0,
  "metadata": {
    "colab": {
      "name": "Linear Regression.ipynb",
      "provenance": [],
      "collapsed_sections": [],
      "authorship_tag": "ABX9TyOxmNmiBB7kLlaLkWQFjGvv",
      "include_colab_link": true
    },
    "kernelspec": {
      "name": "python3",
      "display_name": "Python 3"
    }
  },
  "cells": [
    {
      "cell_type": "markdown",
      "metadata": {
        "id": "view-in-github",
        "colab_type": "text"
      },
      "source": [
        "<a href=\"https://colab.research.google.com/github/imdeepmind/NeuralPy-Examples/blob/master/Linear_Regression.ipynb\" target=\"_parent\"><img src=\"https://colab.research.google.com/assets/colab-badge.svg\" alt=\"Open In Colab\"/></a>"
      ]
    },
    {
      "cell_type": "code",
      "metadata": {
        "id": "rfaTcoZcFIeE",
        "colab_type": "code",
        "colab": {
          "base_uri": "https://localhost:8080/",
          "height": 143
        },
        "outputId": "32713e88-f87c-4162-ac23-39ceca80aec4"
      },
      "source": [
        "# Get the NeuralPy Library\n",
        "\n",
        "# Currently the library is not available through pip so cloning the git repo to get the code\n",
        "!git clone https://github.com/imdeepmind/NeuralPy.git\n",
        "!mv NeuralPy/neuralpy/ ./\n",
        "!rm -r NeuralPy/"
      ],
      "execution_count": 6,
      "outputs": [
        {
          "output_type": "stream",
          "text": [
            "Cloning into 'NeuralPy'...\n",
            "remote: Enumerating objects: 433, done.\u001b[K\n",
            "remote: Counting objects:   0% (1/433)\u001b[K\rremote: Counting objects:   1% (5/433)\u001b[K\rremote: Counting objects:   2% (9/433)\u001b[K\rremote: Counting objects:   3% (13/433)\u001b[K\rremote: Counting objects:   4% (18/433)\u001b[K\rremote: Counting objects:   5% (22/433)\u001b[K\rremote: Counting objects:   6% (26/433)\u001b[K\rremote: Counting objects:   7% (31/433)\u001b[K\rremote: Counting objects:   8% (35/433)\u001b[K\rremote: Counting objects:   9% (39/433)\u001b[K\rremote: Counting objects:  10% (44/433)\u001b[K\rremote: Counting objects:  11% (48/433)\u001b[K\rremote: Counting objects:  12% (52/433)\u001b[K\rremote: Counting objects:  13% (57/433)\u001b[K\rremote: Counting objects:  14% (61/433)\u001b[K\rremote: Counting objects:  15% (65/433)\u001b[K\rremote: Counting objects:  16% (70/433)\u001b[K\rremote: Counting objects:  17% (74/433)\u001b[K\rremote: Counting objects:  18% (78/433)\u001b[K\rremote: Counting objects:  19% (83/433)\u001b[K\rremote: Counting objects:  20% (87/433)\u001b[K\rremote: Counting objects:  21% (91/433)\u001b[K\rremote: Counting objects:  22% (96/433)\u001b[K\rremote: Counting objects:  23% (100/433)\u001b[K\rremote: Counting objects:  24% (104/433)\u001b[K\rremote: Counting objects:  25% (109/433)\u001b[K\rremote: Counting objects:  26% (113/433)\u001b[K\rremote: Counting objects:  27% (117/433)\u001b[K\rremote: Counting objects:  28% (122/433)\u001b[K\rremote: Counting objects:  29% (126/433)\u001b[K\rremote: Counting objects:  30% (130/433)\u001b[K\rremote: Counting objects:  31% (135/433)\u001b[K\rremote: Counting objects:  32% (139/433)\u001b[K\rremote: Counting objects:  33% (143/433)\u001b[K\rremote: Counting objects:  34% (148/433)\u001b[K\rremote: Counting objects:  35% (152/433)\u001b[K\rremote: Counting objects:  36% (156/433)\u001b[K\rremote: Counting objects:  37% (161/433)\u001b[K\rremote: Counting objects:  38% (165/433)\u001b[K\rremote: Counting objects:  39% (169/433)\u001b[K\rremote: Counting objects:  40% (174/433)\u001b[K\rremote: Counting objects:  41% (178/433)\u001b[K\rremote: Counting objects:  42% (182/433)\u001b[K\rremote: Counting objects:  43% (187/433)\u001b[K\rremote: Counting objects:  44% (191/433)\u001b[K\rremote: Counting objects:  45% (195/433)\u001b[K\rremote: Counting objects:  46% (200/433)\u001b[K\rremote: Counting objects:  47% (204/433)\u001b[K\rremote: Counting objects:  48% (208/433)\u001b[K\rremote: Counting objects:  49% (213/433)\u001b[K\rremote: Counting objects:  50% (217/433)\u001b[K\rremote: Counting objects:  51% (221/433)\u001b[K\rremote: Counting objects:  52% (226/433)\u001b[K\rremote: Counting objects:  53% (230/433)\u001b[K\rremote: Counting objects:  54% (234/433)\u001b[K\rremote: Counting objects:  55% (239/433)\u001b[K\rremote: Counting objects:  56% (243/433)\u001b[K\rremote: Counting objects:  57% (247/433)\u001b[K\rremote: Counting objects:  58% (252/433)\u001b[K\rremote: Counting objects:  59% (256/433)\u001b[K\rremote: Counting objects:  60% (260/433)\u001b[K\rremote: Counting objects:  61% (265/433)\u001b[K\rremote: Counting objects:  62% (269/433)\u001b[K\rremote: Counting objects:  63% (273/433)\u001b[K\rremote: Counting objects:  64% (278/433)\u001b[K\rremote: Counting objects:  65% (282/433)\u001b[K\rremote: Counting objects:  66% (286/433)\u001b[K\rremote: Counting objects:  67% (291/433)\u001b[K\rremote: Counting objects:  68% (295/433)\u001b[K\rremote: Counting objects:  69% (299/433)\u001b[K\rremote: Counting objects:  70% (304/433)\u001b[K\rremote: Counting objects:  71% (308/433)\u001b[K\rremote: Counting objects:  72% (312/433)\u001b[K\rremote: Counting objects:  73% (317/433)\u001b[K\rremote: Counting objects:  74% (321/433)\u001b[K\rremote: Counting objects:  75% (325/433)\u001b[K\rremote: Counting objects:  76% (330/433)\u001b[K\rremote: Counting objects:  77% (334/433)\u001b[K\rremote: Counting objects:  78% (338/433)\u001b[K\rremote: Counting objects:  79% (343/433)\u001b[K\rremote: Counting objects:  80% (347/433)\u001b[K\rremote: Counting objects:  81% (351/433)\u001b[K\rremote: Counting objects:  82% (356/433)\u001b[K\rremote: Counting objects:  83% (360/433)\u001b[K\rremote: Counting objects:  84% (364/433)\u001b[K\rremote: Counting objects:  85% (369/433)\u001b[K\rremote: Counting objects:  86% (373/433)\u001b[K\rremote: Counting objects:  87% (377/433)\u001b[K\rremote: Counting objects:  88% (382/433)\u001b[K\rremote: Counting objects:  89% (386/433)\u001b[K\rremote: Counting objects:  90% (390/433)\u001b[K\rremote: Counting objects:  91% (395/433)\u001b[K\rremote: Counting objects:  92% (399/433)\u001b[K\rremote: Counting objects:  93% (403/433)\u001b[K\rremote: Counting objects:  94% (408/433)\u001b[K\rremote: Counting objects:  95% (412/433)\u001b[K\rremote: Counting objects:  96% (416/433)\u001b[K\rremote: Counting objects:  97% (421/433)\u001b[K\rremote: Counting objects:  98% (425/433)\u001b[K\rremote: Counting objects:  99% (429/433)\u001b[K\rremote: Counting objects: 100% (433/433)\u001b[K\rremote: Counting objects: 100% (433/433), done.\u001b[K\n",
            "remote: Compressing objects:   0% (1/274)\u001b[K\rremote: Compressing objects:   1% (3/274)\u001b[K\rremote: Compressing objects:   2% (6/274)\u001b[K\rremote: Compressing objects:   3% (9/274)\u001b[K\rremote: Compressing objects:   4% (11/274)\u001b[K\rremote: Compressing objects:   5% (14/274)\u001b[K\rremote: Compressing objects:   6% (17/274)\u001b[K\rremote: Compressing objects:   7% (20/274)\u001b[K\rremote: Compressing objects:   8% (22/274)\u001b[K\rremote: Compressing objects:   9% (25/274)\u001b[K\rremote: Compressing objects:  10% (28/274)\u001b[K\rremote: Compressing objects:  11% (31/274)\u001b[K\rremote: Compressing objects:  12% (33/274)\u001b[K\rremote: Compressing objects:  13% (36/274)\u001b[K\rremote: Compressing objects:  14% (39/274)\u001b[K\rremote: Compressing objects:  15% (42/274)\u001b[K\rremote: Compressing objects:  16% (44/274)\u001b[K\rremote: Compressing objects:  17% (47/274)\u001b[K\rremote: Compressing objects:  18% (50/274)\u001b[K\rremote: Compressing objects:  19% (53/274)\u001b[K\rremote: Compressing objects:  20% (55/274)\u001b[K\rremote: Compressing objects:  21% (58/274)\u001b[K\rremote: Compressing objects:  22% (61/274)\u001b[K\rremote: Compressing objects:  23% (64/274)\u001b[K\rremote: Compressing objects:  24% (66/274)\u001b[K\rremote: Compressing objects:  25% (69/274)\u001b[K\rremote: Compressing objects:  26% (72/274)\u001b[K\rremote: Compressing objects:  27% (74/274)\u001b[K\rremote: Compressing objects:  28% (77/274)\u001b[K\rremote: Compressing objects:  29% (80/274)\u001b[K\rremote: Compressing objects:  30% (83/274)\u001b[K\rremote: Compressing objects:  31% (85/274)\u001b[K\rremote: Compressing objects:  32% (88/274)\u001b[K\rremote: Compressing objects:  33% (91/274)\u001b[K\rremote: Compressing objects:  34% (94/274)\u001b[K\rremote: Compressing objects:  35% (96/274)\u001b[K\rremote: Compressing objects:  36% (99/274)\u001b[K\rremote: Compressing objects:  37% (102/274)\u001b[K\rremote: Compressing objects:  38% (105/274)\u001b[K\rremote: Compressing objects:  39% (107/274)\u001b[K\rremote: Compressing objects:  40% (110/274)\u001b[K\rremote: Compressing objects:  41% (113/274)\u001b[K\rremote: Compressing objects:  42% (116/274)\u001b[K\rremote: Compressing objects:  43% (118/274)\u001b[K\rremote: Compressing objects:  44% (121/274)\u001b[K\rremote: Compressing objects:  45% (124/274)\u001b[K\rremote: Compressing objects:  46% (127/274)\u001b[K\rremote: Compressing objects:  47% (129/274)\u001b[K\rremote: Compressing objects:  48% (132/274)\u001b[K\rremote: Compressing objects:  49% (135/274)\u001b[K\rremote: Compressing objects:  50% (137/274)\u001b[K\rremote: Compressing objects:  51% (140/274)\u001b[K\rremote: Compressing objects:  52% (143/274)\u001b[K\rremote: Compressing objects:  53% (146/274)\u001b[K\rremote: Compressing objects:  54% (148/274)\u001b[K\rremote: Compressing objects:  55% (151/274)\u001b[K\rremote: Compressing objects:  56% (154/274)\u001b[K\rremote: Compressing objects:  57% (157/274)\u001b[K\rremote: Compressing objects:  58% (159/274)\u001b[K\rremote: Compressing objects:  59% (162/274)\u001b[K\rremote: Compressing objects:  60% (165/274)\u001b[K\rremote: Compressing objects:  61% (168/274)\u001b[K\rremote: Compressing objects:  62% (170/274)\u001b[K\rremote: Compressing objects:  63% (173/274)\u001b[K\rremote: Compressing objects:  64% (176/274)\u001b[K\rremote: Compressing objects:  65% (179/274)\u001b[K\rremote: Compressing objects:  66% (181/274)\u001b[K\rremote: Compressing objects:  67% (184/274)\u001b[K\rremote: Compressing objects:  68% (187/274)\u001b[K\rremote: Compressing objects:  69% (190/274)\u001b[K\rremote: Compressing objects:  70% (192/274)\u001b[K\rremote: Compressing objects:  71% (195/274)\u001b[K\rremote: Compressing objects:  72% (198/274)\u001b[K\rremote: Compressing objects:  73% (201/274)\u001b[K\rremote: Compressing objects:  74% (203/274)\u001b[K\rremote: Compressing objects:  75% (206/274)\u001b[K\rremote: Compressing objects:  76% (209/274)\u001b[K\rremote: Compressing objects:  77% (211/274)\u001b[K\rremote: Compressing objects:  78% (214/274)\u001b[K\rremote: Compressing objects:  79% (217/274)\u001b[K\rremote: Compressing objects:  80% (220/274)\u001b[K\rremote: Compressing objects:  81% (222/274)\u001b[K\rremote: Compressing objects:  82% (225/274)\u001b[K\rremote: Compressing objects:  83% (228/274)\u001b[K\rremote: Compressing objects:  84% (231/274)\u001b[K\rremote: Compressing objects:  85% (233/274)\u001b[K\rremote: Compressing objects:  86% (236/274)\u001b[K\rremote: Compressing objects:  87% (239/274)\u001b[K\rremote: Compressing objects:  88% (242/274)\u001b[K\rremote: Compressing objects:  89% (244/274)\u001b[K\rremote: Compressing objects:  90% (247/274)\u001b[K\rremote: Compressing objects:  91% (250/274)\u001b[K\rremote: Compressing objects:  92% (253/274)\u001b[K\rremote: Compressing objects:  93% (255/274)\u001b[K\rremote: Compressing objects:  94% (258/274)\u001b[K\rremote: Compressing objects:  95% (261/274)\u001b[K\rremote: Compressing objects:  96% (264/274)\u001b[K\rremote: Compressing objects:  97% (266/274)\u001b[K\rremote: Compressing objects:  98% (269/274)\u001b[K\rremote: Compressing objects:  99% (272/274)\u001b[K\rremote: Compressing objects: 100% (274/274)\u001b[K\rremote: Compressing objects: 100% (274/274), done.\u001b[K\n",
            "Receiving objects:   0% (1/433)   \rReceiving objects:   1% (5/433)   \rReceiving objects:   2% (9/433)   \rReceiving objects:   3% (13/433)   \rReceiving objects:   4% (18/433)   \rReceiving objects:   5% (22/433)   \rReceiving objects:   6% (26/433)   \rReceiving objects:   7% (31/433)   \rReceiving objects:   8% (35/433)   \rReceiving objects:   9% (39/433)   \rReceiving objects:  10% (44/433)   \rReceiving objects:  11% (48/433)   \rReceiving objects:  12% (52/433)   \rReceiving objects:  13% (57/433)   \rReceiving objects:  14% (61/433)   \rReceiving objects:  15% (65/433)   \rReceiving objects:  16% (70/433)   \rReceiving objects:  17% (74/433)   \rReceiving objects:  18% (78/433)   \rReceiving objects:  19% (83/433)   \rReceiving objects:  20% (87/433)   \rReceiving objects:  21% (91/433)   \rReceiving objects:  22% (96/433)   \rReceiving objects:  23% (100/433)   \rReceiving objects:  24% (104/433)   \rReceiving objects:  25% (109/433)   \rReceiving objects:  26% (113/433)   \rReceiving objects:  27% (117/433)   \rReceiving objects:  28% (122/433)   \rReceiving objects:  29% (126/433)   \rReceiving objects:  30% (130/433)   \rReceiving objects:  31% (135/433)   \rReceiving objects:  32% (139/433)   \rReceiving objects:  33% (143/433)   \rReceiving objects:  34% (148/433)   \rremote: Total 433 (delta 167), reused 411 (delta 149), pack-reused 0\u001b[K\n",
            "Receiving objects:  35% (152/433)   \rReceiving objects:  36% (156/433)   \rReceiving objects:  37% (161/433)   \rReceiving objects:  38% (165/433)   \rReceiving objects:  39% (169/433)   \rReceiving objects:  40% (174/433)   \rReceiving objects:  41% (178/433)   \rReceiving objects:  42% (182/433)   \rReceiving objects:  43% (187/433)   \rReceiving objects:  44% (191/433)   \rReceiving objects:  45% (195/433)   \rReceiving objects:  46% (200/433)   \rReceiving objects:  47% (204/433)   \rReceiving objects:  48% (208/433)   \rReceiving objects:  49% (213/433)   \rReceiving objects:  50% (217/433)   \rReceiving objects:  51% (221/433)   \rReceiving objects:  52% (226/433)   \rReceiving objects:  53% (230/433)   \rReceiving objects:  54% (234/433)   \rReceiving objects:  55% (239/433)   \rReceiving objects:  56% (243/433)   \rReceiving objects:  57% (247/433)   \rReceiving objects:  58% (252/433)   \rReceiving objects:  59% (256/433)   \rReceiving objects:  60% (260/433)   \rReceiving objects:  61% (265/433)   \rReceiving objects:  62% (269/433)   \rReceiving objects:  63% (273/433)   \rReceiving objects:  64% (278/433)   \rReceiving objects:  65% (282/433)   \rReceiving objects:  66% (286/433)   \rReceiving objects:  67% (291/433)   \rReceiving objects:  68% (295/433)   \rReceiving objects:  69% (299/433)   \rReceiving objects:  70% (304/433)   \rReceiving objects:  71% (308/433)   \rReceiving objects:  72% (312/433)   \rReceiving objects:  73% (317/433)   \rReceiving objects:  74% (321/433)   \rReceiving objects:  75% (325/433)   \rReceiving objects:  76% (330/433)   \rReceiving objects:  77% (334/433)   \rReceiving objects:  78% (338/433)   \rReceiving objects:  79% (343/433)   \rReceiving objects:  80% (347/433)   \rReceiving objects:  81% (351/433)   \rReceiving objects:  82% (356/433)   \rReceiving objects:  83% (360/433)   \rReceiving objects:  84% (364/433)   \rReceiving objects:  85% (369/433)   \rReceiving objects:  86% (373/433)   \rReceiving objects:  87% (377/433)   \rReceiving objects:  88% (382/433)   \rReceiving objects:  89% (386/433)   \rReceiving objects:  90% (390/433)   \rReceiving objects:  91% (395/433)   \rReceiving objects:  92% (399/433)   \rReceiving objects:  93% (403/433)   \rReceiving objects:  94% (408/433)   \rReceiving objects:  95% (412/433)   \rReceiving objects:  96% (416/433)   \rReceiving objects:  97% (421/433)   \rReceiving objects:  98% (425/433)   \rReceiving objects:  99% (429/433)   \rReceiving objects: 100% (433/433)   \rReceiving objects: 100% (433/433), 2.79 MiB | 16.52 MiB/s, done.\n",
            "Resolving deltas:   0% (0/167)   \rResolving deltas:   2% (4/167)   \rResolving deltas:   5% (9/167)   \rResolving deltas:   8% (15/167)   \rResolving deltas:  10% (18/167)   \rResolving deltas:  13% (22/167)   \rResolving deltas:  14% (25/167)   \rResolving deltas:  15% (26/167)   \rResolving deltas:  17% (29/167)   \rResolving deltas:  18% (31/167)   \rResolving deltas:  19% (32/167)   \rResolving deltas:  21% (36/167)   \rResolving deltas:  22% (37/167)   \rResolving deltas:  40% (68/167)   \rResolving deltas:  45% (76/167)   \rResolving deltas:  47% (79/167)   \rResolving deltas:  54% (91/167)   \rResolving deltas:  56% (94/167)   \rResolving deltas:  60% (101/167)   \rResolving deltas:  62% (105/167)   \rResolving deltas:  66% (111/167)   \rResolving deltas:  67% (113/167)   \rResolving deltas:  68% (115/167)   \rResolving deltas:  69% (116/167)   \rResolving deltas:  77% (130/167)   \rResolving deltas:  79% (132/167)   \rResolving deltas:  80% (134/167)   \rResolving deltas:  81% (136/167)   \rResolving deltas:  82% (137/167)   \rResolving deltas:  88% (148/167)   \rResolving deltas:  89% (149/167)   \rResolving deltas:  94% (157/167)   \rResolving deltas:  95% (159/167)   \rResolving deltas:  96% (161/167)   \rResolving deltas:  98% (164/167)   \rResolving deltas:  99% (166/167)   \rResolving deltas: 100% (167/167)   \rResolving deltas: 100% (167/167), done.\n"
          ],
          "name": "stdout"
        }
      ]
    },
    {
      "cell_type": "code",
      "metadata": {
        "id": "AxOQ4XIwGr29",
        "colab_type": "code",
        "colab": {}
      },
      "source": [
        "# Dependencies\n",
        "import numpy as np\n",
        "import matplotlib.pyplot as plt\n",
        "\n",
        "from neuralpy.models import Sequential\n",
        "from neuralpy.layers import Dense\n",
        "from neuralpy.optimizer import Adam\n",
        "from neuralpy.loss_functions import MSELoss"
      ],
      "execution_count": 0,
      "outputs": []
    },
    {
      "cell_type": "code",
      "metadata": {
        "id": "4gOLDq6TG4yW",
        "colab_type": "code",
        "colab": {}
      },
      "source": [
        "# Random seed for numpy\n",
        "np.random.seed(1969)"
      ],
      "execution_count": 0,
      "outputs": []
    },
    {
      "cell_type": "code",
      "metadata": {
        "id": "ZhHcKWRRGPZT",
        "colab_type": "code",
        "colab": {}
      },
      "source": [
        "# Generating the data\n",
        "X_train = np.random.rand(100, 1) * 10\n",
        "y_train = X_train + 5 *np.random.rand(100, 1)\n",
        "\n",
        "X_validation = np.random.rand(100, 1) * 10\n",
        "y_validation = X_validation + 5 * np.random.rand(100, 1)\n",
        "\n",
        "X_test = np.random.rand(10, 1) * 10\n",
        "y_test = X_test + 5 * np.random.rand(10, 1)"
      ],
      "execution_count": 0,
      "outputs": []
    },
    {
      "cell_type": "code",
      "metadata": {
        "id": "krYiVDBgGcvy",
        "colab_type": "code",
        "colab": {
          "base_uri": "https://localhost:8080/",
          "height": 295
        },
        "outputId": "3fbba856-62b0-4e8d-add0-7b77525c4e6f"
      },
      "source": [
        "# Plotting the data\n",
        "\n",
        "plt.title('Data Visualization')\n",
        "\n",
        "plt.ylabel('Y')\n",
        "plt.xlabel('X')\n",
        "\n",
        "plt.plot(X_train, y_train, 'o')\n",
        "plt.plot(X_validation, y_validation, 'o')\n",
        "plt.plot(X_test, y_test, 'o')\n",
        "\n",
        "plt.legend(['Training', 'Validaiton', 'Testing'], loc='upper left')\n",
        "plt.show()"
      ],
      "execution_count": 34,
      "outputs": [
        {
          "output_type": "display_data",
          "data": {
            "image/png": "[encoded data removed]",
            "text/plain": [
              "<Figure size 432x288 with 1 Axes>"
            ]
          },
          "metadata": {
            "tags": [],
            "needs_background": "light"
          }
        }
      ]
    },
    {
      "cell_type": "code",
      "metadata": {
        "id": "sZg-S_xgHZtE",
        "colab_type": "code",
        "colab": {}
      },
      "source": [
        "# Making the model\n",
        "model = Sequential()\n",
        "\n",
        "model.add(Dense(n_nodes=1, n_inputs=1, bias=True, name=\"Input Layer\"))"
      ],
      "execution_count": 0,
      "outputs": []
    },
    {
      "cell_type": "code",
      "metadata": {
        "id": "_4pfKnEKHu8b",
        "colab_type": "code",
        "colab": {}
      },
      "source": [
        "model.compile(optimizer=Adam(), loss_function=MSELoss())"
      ],
      "execution_count": 0,
      "outputs": []
    },
    {
      "cell_type": "code",
      "metadata": {
        "id": "Dhqs4FgzHwJg",
        "colab_type": "code",
        "colab": {
          "base_uri": "https://localhost:8080/",
          "height": 107
        },
        "outputId": "f9ef9605-11ba-4bc8-df9a-e95ba5c1b673"
      },
      "source": [
        "model.summary()"
      ],
      "execution_count": 37,
      "outputs": [
        {
          "output_type": "stream",
          "text": [
            "Sequential(\n",
            "  (Input Layer): Linear(in_features=1, out_features=1, bias=True)\n",
            ")\n",
            "Total Number of Parameters:  2\n",
            "Total Number of Trainable Parameters:  2\n"
          ],
          "name": "stdout"
        }
      ]
    },
    {
      "cell_type": "code",
      "metadata": {
        "id": "TWLyRVc7Hxq9",
        "colab_type": "code",
        "colab": {
          "base_uri": "https://localhost:8080/",
          "height": 1000
        },
        "outputId": "fc7f8482-0d4b-40e7-e394-1f45f5f54448"
      },
      "source": [
        "history = model.fit(train_data=(X_train, y_train), test_data=(X_validation, y_validation), epochs=500, batch_size=4)"
      ],
      "execution_count": 38,
      "outputs": [
        {
          "output_type": "stream",
          "text": [
            "Epoch: 1/500 Train Loss 64.70: 100%|██████████| 25/25 [00:00<00:00, 311.00it/s]\n",
            "Epoch: 2/500 Train Loss 62.29: 100%|██████████| 25/25 [00:00<00:00, 460.06it/s]\n",
            "Epoch: 3/500 Train Loss 59.96: 100%|██████████| 25/25 [00:00<00:00, 400.05it/s]\n",
            "Epoch: 4/500 Train Loss 33.20:   0%|          | 0/25 [00:00<?, ?it/s]"
          ],
          "name": "stderr"
        },
        {
          "output_type": "stream",
          "text": [
            "Validation Loss: 366.77\n",
            "Validation Loss: 353.47\n",
            "Validation Loss: 340.58\n"
          ],
          "name": "stdout"
        },
        {
          "output_type": "stream",
          "text": [
            "Epoch: 4/500 Train Loss 57.70: 100%|██████████| 25/25 [00:00<00:00, 393.91it/s]\n",
            "Epoch: 5/500 Train Loss 55.50: 100%|██████████| 25/25 [00:00<00:00, 380.24it/s]\n",
            "Epoch: 6/500 Train Loss 53.37: 100%|██████████| 25/25 [00:00<00:00, 470.09it/s]\n",
            "Epoch: 7/500 Train Loss 46.57:   0%|          | 0/25 [00:00<?, ?it/s]"
          ],
          "name": "stderr"
        },
        {
          "output_type": "stream",
          "text": [
            "Validation Loss: 328.06\n",
            "Validation Loss: 315.92\n",
            "Validation Loss: 304.14\n"
          ],
          "name": "stdout"
        },
        {
          "output_type": "stream",
          "text": [
            "Epoch: 7/500 Train Loss 51.31: 100%|██████████| 25/25 [00:00<00:00, 453.15it/s]\n",
            "Epoch: 8/500 Train Loss 49.31: 100%|██████████| 25/25 [00:00<00:00, 444.08it/s]\n",
            "Epoch: 9/500 Train Loss 47.37: 100%|██████████| 25/25 [00:00<00:00, 403.69it/s]\n",
            "Epoch: 10/500 Train Loss 35.65:   0%|          | 0/25 [00:00<?, ?it/s]"
          ],
          "name": "stderr"
        },
        {
          "output_type": "stream",
          "text": [
            "Validation Loss: 292.71\n",
            "Validation Loss: 281.63\n",
            "Validation Loss: 270.90\n"
          ],
          "name": "stdout"
        },
        {
          "output_type": "stream",
          "text": [
            "Epoch: 10/500 Train Loss 45.50: 100%|██████████| 25/25 [00:00<00:00, 318.27it/s]\n",
            "Epoch: 11/500 Train Loss 43.68: 100%|██████████| 25/25 [00:00<00:00, 367.72it/s]\n",
            "Epoch: 12/500 Train Loss 41.92: 100%|██████████| 25/25 [00:00<00:00, 393.89it/s]\n",
            "Epoch: 13/500 Train Loss 57.52:   0%|          | 0/25 [00:00<?, ?it/s]"
          ],
          "name": "stderr"
        },
        {
          "output_type": "stream",
          "text": [
            "Validation Loss: 260.50\n",
            "Validation Loss: 250.43\n",
            "Validation Loss: 240.68\n"
          ],
          "name": "stdout"
        },
        {
          "output_type": "stream",
          "text": [
            "Epoch: 13/500 Train Loss 40.22: 100%|██████████| 25/25 [00:00<00:00, 417.55it/s]\n",
            "Epoch: 14/500 Train Loss 38.58: 100%|██████████| 25/25 [00:00<00:00, 419.43it/s]\n",
            "Epoch: 15/500 Train Loss 36.99: 100%|██████████| 25/25 [00:00<00:00, 443.17it/s]\n",
            "Epoch: 16/500 Train Loss 50.46:   0%|          | 0/25 [00:00<?, ?it/s]"
          ],
          "name": "stderr"
        },
        {
          "output_type": "stream",
          "text": [
            "Validation Loss: 231.25\n",
            "Validation Loss: 222.12\n",
            "Validation Loss: 213.29\n"
          ],
          "name": "stdout"
        },
        {
          "output_type": "stream",
          "text": [
            "Epoch: 16/500 Train Loss 35.46: 100%|██████████| 25/25 [00:00<00:00, 437.30it/s]\n",
            "Epoch: 17/500 Train Loss 33.97: 100%|██████████| 25/25 [00:00<00:00, 405.11it/s]\n",
            "Epoch: 18/500 Train Loss 32.54: 100%|██████████| 25/25 [00:00<00:00, 426.89it/s]\n",
            "Epoch: 19/500 Train Loss 44.11:   0%|          | 0/25 [00:00<?, ?it/s]"
          ],
          "name": "stderr"
        },
        {
          "output_type": "stream",
          "text": [
            "Validation Loss: 204.76\n",
            "Validation Loss: 196.51\n",
            "Validation Loss: 188.55\n"
          ],
          "name": "stdout"
        },
        {
          "output_type": "stream",
          "text": [
            "Epoch: 19/500 Train Loss 31.16: 100%|██████████| 25/25 [00:00<00:00, 446.27it/s]\n",
            "Epoch: 20/500 Train Loss 29.83: 100%|██████████| 25/25 [00:00<00:00, 395.63it/s]\n",
            "Epoch: 21/500 Train Loss 28.54: 100%|██████████| 25/25 [00:00<00:00, 445.99it/s]\n",
            "Epoch: 22/500 Train Loss 15.32:   0%|          | 0/25 [00:00<?, ?it/s]"
          ],
          "name": "stderr"
        },
        {
          "output_type": "stream",
          "text": [
            "Validation Loss: 180.86\n",
            "Validation Loss: 173.44\n",
            "Validation Loss: 166.28\n"
          ],
          "name": "stdout"
        },
        {
          "output_type": "stream",
          "text": [
            "Epoch: 22/500 Train Loss 27.31: 100%|██████████| 25/25 [00:00<00:00, 447.59it/s]\n",
            "Epoch: 23/500 Train Loss 26.11: 100%|██████████| 25/25 [00:00<00:00, 436.84it/s]\n",
            "Epoch: 24/500 Train Loss 24.96: 100%|██████████| 25/25 [00:00<00:00, 455.65it/s]\n",
            "Epoch: 25/500 Train Loss 3.10:   0%|          | 0/25 [00:00<?, ?it/s]"
          ],
          "name": "stderr"
        },
        {
          "output_type": "stream",
          "text": [
            "Validation Loss: 159.38\n",
            "Validation Loss: 152.73\n",
            "Validation Loss: 146.32\n"
          ],
          "name": "stdout"
        },
        {
          "output_type": "stream",
          "text": [
            "Epoch: 25/500 Train Loss 23.86: 100%|██████████| 25/25 [00:00<00:00, 399.88it/s]\n",
            "Epoch: 26/500 Train Loss 22.80: 100%|██████████| 25/25 [00:00<00:00, 391.02it/s]\n",
            "Epoch: 27/500 Train Loss 21.78: 100%|██████████| 25/25 [00:00<00:00, 438.43it/s]\n",
            "Epoch: 28/500 Train Loss 19.40:   0%|          | 0/25 [00:00<?, ?it/s]"
          ],
          "name": "stderr"
        },
        {
          "output_type": "stream",
          "text": [
            "Validation Loss: 140.15\n",
            "Validation Loss: 134.22\n",
            "Validation Loss: 128.50\n"
          ],
          "name": "stdout"
        },
        {
          "output_type": "stream",
          "text": [
            "Epoch: 28/500 Train Loss 20.79: 100%|██████████| 25/25 [00:00<00:00, 436.45it/s]\n",
            "Epoch: 29/500 Train Loss 19.85: 100%|██████████| 25/25 [00:00<00:00, 405.90it/s]\n",
            "Epoch: 30/500 Train Loss 18.95: 100%|██████████| 25/25 [00:00<00:00, 442.99it/s]\n",
            "Epoch: 31/500 Train Loss 16.26:   0%|          | 0/25 [00:00<?, ?it/s]"
          ],
          "name": "stderr"
        },
        {
          "output_type": "stream",
          "text": [
            "Validation Loss: 123.01\n",
            "Validation Loss: 117.73\n",
            "Validation Loss: 112.66\n"
          ],
          "name": "stdout"
        },
        {
          "output_type": "stream",
          "text": [
            "Epoch: 31/500 Train Loss 18.08: 100%|██████████| 25/25 [00:00<00:00, 444.69it/s]\n",
            "Epoch: 32/500 Train Loss 17.25: 100%|██████████| 25/25 [00:00<00:00, 457.15it/s]\n",
            "Epoch: 33/500 Train Loss 16.45: 100%|██████████| 25/25 [00:00<00:00, 345.41it/s]\n",
            "Epoch: 34/500 Train Loss 21.39:   0%|          | 0/25 [00:00<?, ?it/s]"
          ],
          "name": "stderr"
        },
        {
          "output_type": "stream",
          "text": [
            "Validation Loss: 107.79\n",
            "Validation Loss: 103.12\n",
            "Validation Loss: 98.64\n"
          ],
          "name": "stdout"
        },
        {
          "output_type": "stream",
          "text": [
            "Epoch: 34/500 Train Loss 15.69: 100%|██████████| 25/25 [00:00<00:00, 415.94it/s]\n",
            "Epoch: 35/500 Train Loss 14.95: 100%|██████████| 25/25 [00:00<00:00, 431.70it/s]\n",
            "Epoch: 36/500 Train Loss 14.25: 100%|██████████| 25/25 [00:00<00:00, 351.38it/s]\n",
            "Epoch: 37/500 Train Loss 7.02:   0%|          | 0/25 [00:00<?, ?it/s]"
          ],
          "name": "stderr"
        },
        {
          "output_type": "stream",
          "text": [
            "Validation Loss: 94.35\n",
            "Validation Loss: 90.23\n",
            "Validation Loss: 86.29\n"
          ],
          "name": "stdout"
        },
        {
          "output_type": "stream",
          "text": [
            "Epoch: 37/500 Train Loss 13.59: 100%|██████████| 25/25 [00:00<00:00, 380.14it/s]\n",
            "Epoch: 38/500 Train Loss 12.95: 100%|██████████| 25/25 [00:00<00:00, 400.97it/s]\n",
            "Epoch: 39/500 Train Loss 12.34: 100%|██████████| 25/25 [00:00<00:00, 422.29it/s]\n",
            "Epoch: 40/500 Train Loss 8.94:   0%|          | 0/25 [00:00<?, ?it/s]"
          ],
          "name": "stderr"
        },
        {
          "output_type": "stream",
          "text": [
            "Validation Loss: 82.52\n",
            "Validation Loss: 78.92\n",
            "Validation Loss: 75.47\n"
          ],
          "name": "stdout"
        },
        {
          "output_type": "stream",
          "text": [
            "Epoch: 40/500 Train Loss 11.76: 100%|██████████| 25/25 [00:00<00:00, 403.18it/s]\n",
            "Epoch: 41/500 Train Loss 11.20: 100%|██████████| 25/25 [00:00<00:00, 419.14it/s]\n",
            "Epoch: 42/500 Train Loss 10.67: 100%|██████████| 25/25 [00:00<00:00, 348.95it/s]\n",
            "Epoch: 43/500 Train Loss 3.04:   0%|          | 0/25 [00:00<?, ?it/s]"
          ],
          "name": "stderr"
        },
        {
          "output_type": "stream",
          "text": [
            "Validation Loss: 72.18\n",
            "Validation Loss: 69.04\n",
            "Validation Loss: 66.04\n"
          ],
          "name": "stdout"
        },
        {
          "output_type": "stream",
          "text": [
            "Epoch: 43/500 Train Loss 10.17: 100%|██████████| 25/25 [00:00<00:00, 424.15it/s]\n",
            "Epoch: 44/500 Train Loss 9.69: 100%|██████████| 25/25 [00:00<00:00, 462.39it/s]\n",
            "Epoch: 45/500 Train Loss 9.23: 100%|██████████| 25/25 [00:00<00:00, 430.76it/s]\n",
            "Epoch: 46/500 Train Loss 4.43:   0%|          | 0/25 [00:00<?, ?it/s]"
          ],
          "name": "stderr"
        },
        {
          "output_type": "stream",
          "text": [
            "Validation Loss: 63.18\n",
            "Validation Loss: 60.46\n",
            "Validation Loss: 57.86\n"
          ],
          "name": "stdout"
        },
        {
          "output_type": "stream",
          "text": [
            "Epoch: 46/500 Train Loss 8.80: 100%|██████████| 25/25 [00:00<00:00, 468.40it/s]\n",
            "Epoch: 47/500 Train Loss 8.39: 100%|██████████| 25/25 [00:00<00:00, 478.16it/s]\n",
            "Epoch: 48/500 Train Loss 8.00: 100%|██████████| 25/25 [00:00<00:00, 349.04it/s]\n",
            "Epoch: 49/500 Train Loss 1.52:   0%|          | 0/25 [00:00<?, ?it/s]"
          ],
          "name": "stderr"
        },
        {
          "output_type": "stream",
          "text": [
            "Validation Loss: 55.39\n",
            "Validation Loss: 53.04\n",
            "Validation Loss: 50.81\n"
          ],
          "name": "stdout"
        },
        {
          "output_type": "stream",
          "text": [
            "Epoch: 49/500 Train Loss 7.63: 100%|██████████| 25/25 [00:00<00:00, 427.39it/s]\n",
            "Epoch: 50/500 Train Loss 7.27: 100%|██████████| 25/25 [00:00<00:00, 428.10it/s]\n",
            "Epoch: 51/500 Train Loss 6.94: 100%|██████████| 25/25 [00:00<00:00, 423.80it/s]\n",
            "Epoch: 52/500 Train Loss 8.36:   0%|          | 0/25 [00:00<?, ?it/s]"
          ],
          "name": "stderr"
        },
        {
          "output_type": "stream",
          "text": [
            "Validation Loss: 48.69\n",
            "Validation Loss: 46.67\n",
            "Validation Loss: 44.76\n"
          ],
          "name": "stdout"
        },
        {
          "output_type": "stream",
          "text": [
            "Epoch: 52/500 Train Loss 6.63: 100%|██████████| 25/25 [00:00<00:00, 433.84it/s]\n",
            "Epoch: 53/500 Train Loss 6.33: 100%|██████████| 25/25 [00:00<00:00, 391.44it/s]\n",
            "Epoch: 54/500 Train Loss 6.05: 100%|██████████| 25/25 [00:00<00:00, 418.69it/s]\n",
            "Epoch: 55/500 Train Loss 0.44:   0%|          | 0/25 [00:00<?, ?it/s]"
          ],
          "name": "stderr"
        },
        {
          "output_type": "stream",
          "text": [
            "Validation Loss: 42.95\n",
            "Validation Loss: 41.23\n",
            "Validation Loss: 39.60\n"
          ],
          "name": "stdout"
        },
        {
          "output_type": "stream",
          "text": [
            "Epoch: 55/500 Train Loss 5.78: 100%|██████████| 25/25 [00:00<00:00, 439.45it/s]\n",
            "Epoch: 56/500 Train Loss 5.53: 100%|██████████| 25/25 [00:00<00:00, 361.34it/s]\n",
            "Epoch: 57/500 Train Loss 5.29: 100%|██████████| 25/25 [00:00<00:00, 438.45it/s]\n",
            "Epoch: 58/500 Train Loss 6.21:   0%|          | 0/25 [00:00<?, ?it/s]"
          ],
          "name": "stderr"
        },
        {
          "output_type": "stream",
          "text": [
            "Validation Loss: 38.06\n",
            "Validation Loss: 36.61\n",
            "Validation Loss: 35.23\n"
          ],
          "name": "stdout"
        },
        {
          "output_type": "stream",
          "text": [
            "Epoch: 58/500 Train Loss 5.07: 100%|██████████| 25/25 [00:00<00:00, 462.28it/s]\n",
            "Epoch: 59/500 Train Loss 4.86: 100%|██████████| 25/25 [00:00<00:00, 241.53it/s]\n",
            "Epoch: 60/500 Train Loss 4.66: 100%|██████████| 25/25 [00:00<00:00, 372.27it/s]\n"
          ],
          "name": "stderr"
        },
        {
          "output_type": "stream",
          "text": [
            "Validation Loss: 33.93\n",
            "Validation Loss: 32.71\n",
            "Validation Loss: 31.55\n"
          ],
          "name": "stdout"
        },
        {
          "output_type": "stream",
          "text": [
            "Epoch: 61/500 Train Loss 4.47: 100%|██████████| 25/25 [00:00<00:00, 407.51it/s]\n",
            "Epoch: 62/500 Train Loss 4.30: 100%|██████████| 25/25 [00:00<00:00, 368.55it/s]\n",
            "Epoch: 63/500 Train Loss 4.14: 100%|██████████| 25/25 [00:00<00:00, 415.27it/s]\n",
            "Epoch: 64/500 Train Loss 0.15:   0%|          | 0/25 [00:00<?, ?it/s]"
          ],
          "name": "stderr"
        },
        {
          "output_type": "stream",
          "text": [
            "Validation Loss: 30.46\n",
            "Validation Loss: 29.43\n",
            "Validation Loss: 28.46\n"
          ],
          "name": "stdout"
        },
        {
          "output_type": "stream",
          "text": [
            "Epoch: 64/500 Train Loss 3.98: 100%|██████████| 25/25 [00:00<00:00, 334.19it/s]\n",
            "Epoch: 65/500 Train Loss 3.84: 100%|██████████| 25/25 [00:00<00:00, 366.46it/s]\n",
            "Epoch: 66/500 Train Loss 3.70: 100%|██████████| 25/25 [00:00<00:00, 425.21it/s]\n",
            "Epoch: 67/500 Train Loss 0.61:   0%|          | 0/25 [00:00<?, ?it/s]"
          ],
          "name": "stderr"
        },
        {
          "output_type": "stream",
          "text": [
            "Validation Loss: 27.55\n",
            "Validation Loss: 26.69\n",
            "Validation Loss: 25.89\n"
          ],
          "name": "stdout"
        },
        {
          "output_type": "stream",
          "text": [
            "Epoch: 67/500 Train Loss 3.57: 100%|██████████| 25/25 [00:00<00:00, 345.27it/s]\n",
            "Epoch: 68/500 Train Loss 3.45: 100%|██████████| 25/25 [00:00<00:00, 259.73it/s]\n",
            "Epoch: 69/500 Train Loss 3.34: 100%|██████████| 25/25 [00:00<00:00, 367.59it/s]\n",
            "Epoch: 70/500 Train Loss 5.47:   0%|          | 0/25 [00:00<?, ?it/s]"
          ],
          "name": "stderr"
        },
        {
          "output_type": "stream",
          "text": [
            "Validation Loss: 25.13\n",
            "Validation Loss: 24.42\n",
            "Validation Loss: 23.75\n"
          ],
          "name": "stdout"
        },
        {
          "output_type": "stream",
          "text": [
            "Epoch: 70/500 Train Loss 3.24: 100%|██████████| 25/25 [00:00<00:00, 259.66it/s]\n",
            "Epoch: 71/500 Train Loss 3.14: 100%|██████████| 25/25 [00:00<00:00, 307.96it/s]\n",
            "Epoch: 72/500 Train Loss 3.05: 100%|██████████| 25/25 [00:00<00:00, 407.85it/s]\n",
            "Epoch: 73/500 Train Loss 2.41:   0%|          | 0/25 [00:00<?, ?it/s]"
          ],
          "name": "stderr"
        },
        {
          "output_type": "stream",
          "text": [
            "Validation Loss: 23.13\n",
            "Validation Loss: 22.54\n",
            "Validation Loss: 21.99\n"
          ],
          "name": "stdout"
        },
        {
          "output_type": "stream",
          "text": [
            "Epoch: 73/500 Train Loss 2.97: 100%|██████████| 25/25 [00:00<00:00, 385.15it/s]\n",
            "Epoch: 74/500 Train Loss 2.89: 100%|██████████| 25/25 [00:00<00:00, 438.74it/s]\n",
            "Epoch: 75/500 Train Loss 2.82: 100%|██████████| 25/25 [00:00<00:00, 420.02it/s]\n",
            "Epoch: 76/500 Train Loss 2.99:   0%|          | 0/25 [00:00<?, ?it/s]"
          ],
          "name": "stderr"
        },
        {
          "output_type": "stream",
          "text": [
            "Validation Loss: 21.48\n",
            "Validation Loss: 21.00\n",
            "Validation Loss: 20.55\n"
          ],
          "name": "stdout"
        },
        {
          "output_type": "stream",
          "text": [
            "Epoch: 76/500 Train Loss 2.75: 100%|██████████| 25/25 [00:00<00:00, 384.64it/s]\n",
            "Epoch: 77/500 Train Loss 2.68: 100%|██████████| 25/25 [00:00<00:00, 463.07it/s]\n",
            "Epoch: 78/500 Train Loss 2.62: 100%|██████████| 25/25 [00:00<00:00, 478.64it/s]\n",
            "Epoch: 79/500 Train Loss 2.57: 100%|██████████| 25/25 [00:00<00:00, 477.79it/s]\n"
          ],
          "name": "stderr"
        },
        {
          "output_type": "stream",
          "text": [
            "Validation Loss: 20.13\n",
            "Validation Loss: 19.73\n",
            "Validation Loss: 19.36\n",
            "Validation Loss: 19.02\n"
          ],
          "name": "stdout"
        },
        {
          "output_type": "stream",
          "text": [
            "Epoch: 80/500 Train Loss 2.52: 100%|██████████| 25/25 [00:00<00:00, 382.24it/s]\n",
            "Epoch: 81/500 Train Loss 2.47: 100%|██████████| 25/25 [00:00<00:00, 404.66it/s]\n",
            "Epoch: 82/500 Train Loss 2.43: 100%|██████████| 25/25 [00:00<00:00, 482.85it/s]\n",
            "Epoch: 83/500 Train Loss 2.39: 100%|██████████| 25/25 [00:00<00:00, 494.33it/s]\n"
          ],
          "name": "stderr"
        },
        {
          "output_type": "stream",
          "text": [
            "Validation Loss: 18.70\n",
            "Validation Loss: 18.40\n",
            "Validation Loss: 18.12\n",
            "Validation Loss: 17.86\n"
          ],
          "name": "stdout"
        },
        {
          "output_type": "stream",
          "text": [
            "Epoch: 84/500 Train Loss 2.35: 100%|██████████| 25/25 [00:00<00:00, 463.17it/s]\n",
            "Epoch: 85/500 Train Loss 2.31: 100%|██████████| 25/25 [00:00<00:00, 490.71it/s]\n",
            "Epoch: 86/500 Train Loss 2.28: 100%|██████████| 25/25 [00:00<00:00, 502.69it/s]\n",
            "Epoch: 87/500 Train Loss 2.25: 100%|██████████| 25/25 [00:00<00:00, 495.75it/s]\n",
            "Epoch: 88/500 Train Loss 2.36:   0%|          | 0/25 [00:00<?, ?it/s]"
          ],
          "name": "stderr"
        },
        {
          "output_type": "stream",
          "text": [
            "Validation Loss: 17.61\n",
            "Validation Loss: 17.39\n",
            "Validation Loss: 17.18\n",
            "Validation Loss: 16.98\n"
          ],
          "name": "stdout"
        },
        {
          "output_type": "stream",
          "text": [
            "Epoch: 88/500 Train Loss 2.22: 100%|██████████| 25/25 [00:00<00:00, 437.80it/s]\n",
            "Epoch: 89/500 Train Loss 2.20: 100%|██████████| 25/25 [00:00<00:00, 470.42it/s]\n",
            "Epoch: 90/500 Train Loss 2.17: 100%|██████████| 25/25 [00:00<00:00, 484.21it/s]\n",
            "Epoch: 91/500 Train Loss 2.15: 100%|██████████| 25/25 [00:00<00:00, 465.34it/s]\n"
          ],
          "name": "stderr"
        },
        {
          "output_type": "stream",
          "text": [
            "Validation Loss: 16.79\n",
            "Validation Loss: 16.62\n",
            "Validation Loss: 16.46\n",
            "Validation Loss: 16.32\n"
          ],
          "name": "stdout"
        },
        {
          "output_type": "stream",
          "text": [
            "Epoch: 92/500 Train Loss 2.13: 100%|██████████| 25/25 [00:00<00:00, 441.57it/s]\n",
            "Epoch: 93/500 Train Loss 2.11: 100%|██████████| 25/25 [00:00<00:00, 495.91it/s]\n",
            "Epoch: 94/500 Train Loss 2.09: 100%|██████████| 25/25 [00:00<00:00, 445.21it/s]\n",
            "Epoch: 95/500 Train Loss 2.08: 100%|██████████| 25/25 [00:00<00:00, 460.88it/s]\n"
          ],
          "name": "stderr"
        },
        {
          "output_type": "stream",
          "text": [
            "Validation Loss: 16.18\n",
            "Validation Loss: 16.05\n",
            "Validation Loss: 15.93\n",
            "Validation Loss: 15.82\n"
          ],
          "name": "stdout"
        },
        {
          "output_type": "stream",
          "text": [
            "Epoch: 96/500 Train Loss 2.06: 100%|██████████| 25/25 [00:00<00:00, 401.09it/s]\n",
            "Epoch: 97/500 Train Loss 2.05: 100%|██████████| 25/25 [00:00<00:00, 372.62it/s]\n",
            "Epoch: 98/500 Train Loss 2.04: 100%|██████████| 25/25 [00:00<00:00, 444.72it/s]\n",
            "Epoch: 99/500 Train Loss 1.53:   0%|          | 0/25 [00:00<?, ?it/s]"
          ],
          "name": "stderr"
        },
        {
          "output_type": "stream",
          "text": [
            "Validation Loss: 15.71\n",
            "Validation Loss: 15.62\n",
            "Validation Loss: 15.53\n"
          ],
          "name": "stdout"
        },
        {
          "output_type": "stream",
          "text": [
            "Epoch: 99/500 Train Loss 2.03: 100%|██████████| 25/25 [00:00<00:00, 410.75it/s]\n",
            "Epoch: 100/500 Train Loss 2.02: 100%|██████████| 25/25 [00:00<00:00, 411.57it/s]\n",
            "Epoch: 101/500 Train Loss 2.01: 100%|██████████| 25/25 [00:00<00:00, 408.38it/s]\n",
            "Epoch: 102/500 Train Loss 1.97:   0%|          | 0/25 [00:00<?, ?it/s]"
          ],
          "name": "stderr"
        },
        {
          "output_type": "stream",
          "text": [
            "Validation Loss: 15.44\n",
            "Validation Loss: 15.37\n",
            "Validation Loss: 15.29\n"
          ],
          "name": "stdout"
        },
        {
          "output_type": "stream",
          "text": [
            "Epoch: 102/500 Train Loss 2.00: 100%|██████████| 25/25 [00:00<00:00, 407.80it/s]\n",
            "Epoch: 103/500 Train Loss 1.99: 100%|██████████| 25/25 [00:00<00:00, 388.34it/s]\n",
            "Epoch: 104/500 Train Loss 1.98: 100%|██████████| 25/25 [00:00<00:00, 402.46it/s]\n",
            "Epoch: 105/500 Train Loss 1.65:   0%|          | 0/25 [00:00<?, ?it/s]"
          ],
          "name": "stderr"
        },
        {
          "output_type": "stream",
          "text": [
            "Validation Loss: 15.23\n",
            "Validation Loss: 15.17\n",
            "Validation Loss: 15.11\n"
          ],
          "name": "stdout"
        },
        {
          "output_type": "stream",
          "text": [
            "Epoch: 105/500 Train Loss 1.98: 100%|██████████| 25/25 [00:00<00:00, 417.34it/s]\n",
            "Epoch: 106/500 Train Loss 1.97: 100%|██████████| 25/25 [00:00<00:00, 389.32it/s]\n",
            "Epoch: 107/500 Train Loss 1.96: 100%|██████████| 25/25 [00:00<00:00, 467.42it/s]\n",
            "Epoch: 108/500 Train Loss 1.91:   0%|          | 0/25 [00:00<?, ?it/s]"
          ],
          "name": "stderr"
        },
        {
          "output_type": "stream",
          "text": [
            "Validation Loss: 15.05\n",
            "Validation Loss: 15.00\n",
            "Validation Loss: 14.96\n"
          ],
          "name": "stdout"
        },
        {
          "output_type": "stream",
          "text": [
            "Epoch: 108/500 Train Loss 1.96: 100%|██████████| 25/25 [00:00<00:00, 468.95it/s]\n",
            "Epoch: 109/500 Train Loss 1.95: 100%|██████████| 25/25 [00:00<00:00, 402.49it/s]\n",
            "Epoch: 110/500 Train Loss 1.95: 100%|██████████| 25/25 [00:00<00:00, 473.57it/s]\n",
            "Epoch: 111/500 Train Loss 0.66:   0%|          | 0/25 [00:00<?, ?it/s]"
          ],
          "name": "stderr"
        },
        {
          "output_type": "stream",
          "text": [
            "Validation Loss: 14.91\n",
            "Validation Loss: 14.87\n",
            "Validation Loss: 14.84\n"
          ],
          "name": "stdout"
        },
        {
          "output_type": "stream",
          "text": [
            "Epoch: 111/500 Train Loss 1.95: 100%|██████████| 25/25 [00:00<00:00, 461.68it/s]\n",
            "Epoch: 112/500 Train Loss 1.94: 100%|██████████| 25/25 [00:00<00:00, 428.83it/s]\n",
            "Epoch: 113/500 Train Loss 1.94: 100%|██████████| 25/25 [00:00<00:00, 396.68it/s]\n",
            "Epoch: 114/500 Train Loss 1.94: 100%|██████████| 25/25 [00:00<00:00, 481.04it/s]\n"
          ],
          "name": "stderr"
        },
        {
          "output_type": "stream",
          "text": [
            "Validation Loss: 14.80\n",
            "Validation Loss: 14.77\n",
            "Validation Loss: 14.74\n",
            "Validation Loss: 14.72\n"
          ],
          "name": "stdout"
        },
        {
          "output_type": "stream",
          "text": [
            "Epoch: 115/500 Train Loss 1.93: 100%|██████████| 25/25 [00:00<00:00, 452.63it/s]\n",
            "Epoch: 116/500 Train Loss 1.93: 100%|██████████| 25/25 [00:00<00:00, 409.95it/s]\n",
            "Epoch: 117/500 Train Loss 1.93: 100%|██████████| 25/25 [00:00<00:00, 430.09it/s]\n",
            "Epoch: 118/500 Train Loss 1.99:   0%|          | 0/25 [00:00<?, ?it/s]"
          ],
          "name": "stderr"
        },
        {
          "output_type": "stream",
          "text": [
            "Validation Loss: 14.69\n",
            "Validation Loss: 14.67\n",
            "Validation Loss: 14.64\n"
          ],
          "name": "stdout"
        },
        {
          "output_type": "stream",
          "text": [
            "Epoch: 118/500 Train Loss 1.93: 100%|██████████| 25/25 [00:00<00:00, 284.47it/s]\n",
            "Epoch: 119/500 Train Loss 1.93: 100%|██████████| 25/25 [00:00<00:00, 236.62it/s]\n",
            "Epoch: 120/500 Train Loss 1.93: 100%|██████████| 25/25 [00:00<00:00, 407.93it/s]\n",
            "Epoch: 121/500 Train Loss 3.67:   0%|          | 0/25 [00:00<?, ?it/s]"
          ],
          "name": "stderr"
        },
        {
          "output_type": "stream",
          "text": [
            "Validation Loss: 14.62\n",
            "Validation Loss: 14.61\n",
            "Validation Loss: 14.59\n"
          ],
          "name": "stdout"
        },
        {
          "output_type": "stream",
          "text": [
            "Epoch: 121/500 Train Loss 1.93: 100%|██████████| 25/25 [00:00<00:00, 474.51it/s]\n",
            "Epoch: 122/500 Train Loss 1.93: 100%|██████████| 25/25 [00:00<00:00, 486.50it/s]\n",
            "Epoch: 123/500 Train Loss 1.93: 100%|██████████| 25/25 [00:00<00:00, 444.29it/s]\n",
            "Epoch: 124/500 Train Loss 1.92: 100%|██████████| 25/25 [00:00<00:00, 439.76it/s]\n"
          ],
          "name": "stderr"
        },
        {
          "output_type": "stream",
          "text": [
            "Validation Loss: 14.57\n",
            "Validation Loss: 14.56\n",
            "Validation Loss: 14.55\n",
            "Validation Loss: 14.53\n"
          ],
          "name": "stdout"
        },
        {
          "output_type": "stream",
          "text": [
            "Epoch: 125/500 Train Loss 1.92: 100%|██████████| 25/25 [00:00<00:00, 409.13it/s]\n",
            "Epoch: 126/500 Train Loss 1.92: 100%|██████████| 25/25 [00:00<00:00, 434.16it/s]\n",
            "Epoch: 127/500 Train Loss 1.92: 100%|██████████| 25/25 [00:00<00:00, 438.55it/s]\n",
            "Epoch: 128/500 Train Loss 1.93: 100%|██████████| 25/25 [00:00<00:00, 487.42it/s]\n"
          ],
          "name": "stderr"
        },
        {
          "output_type": "stream",
          "text": [
            "Validation Loss: 14.52\n",
            "Validation Loss: 14.51\n",
            "Validation Loss: 14.50\n",
            "Validation Loss: 14.49\n"
          ],
          "name": "stdout"
        },
        {
          "output_type": "stream",
          "text": [
            "Epoch: 129/500 Train Loss 1.93: 100%|██████████| 25/25 [00:00<00:00, 429.81it/s]\n",
            "Epoch: 130/500 Train Loss 1.93: 100%|██████████| 25/25 [00:00<00:00, 485.78it/s]\n",
            "Epoch: 131/500 Train Loss 1.93: 100%|██████████| 25/25 [00:00<00:00, 488.50it/s]\n",
            "Epoch: 132/500 Train Loss 1.93: 100%|██████████| 25/25 [00:00<00:00, 486.90it/s]\n",
            "Epoch: 133/500 Train Loss 2.34:   0%|          | 0/25 [00:00<?, ?it/s]"
          ],
          "name": "stderr"
        },
        {
          "output_type": "stream",
          "text": [
            "Validation Loss: 14.48\n",
            "Validation Loss: 14.48\n",
            "Validation Loss: 14.47\n",
            "Validation Loss: 14.46\n"
          ],
          "name": "stdout"
        },
        {
          "output_type": "stream",
          "text": [
            "Epoch: 133/500 Train Loss 1.93: 100%|██████████| 25/25 [00:00<00:00, 488.44it/s]\n",
            "Epoch: 134/500 Train Loss 1.93: 100%|██████████| 25/25 [00:00<00:00, 479.55it/s]\n",
            "Epoch: 135/500 Train Loss 1.93: 100%|██████████| 25/25 [00:00<00:00, 456.33it/s]\n",
            "Epoch: 136/500 Train Loss 1.93: 100%|██████████| 25/25 [00:00<00:00, 515.03it/s]\n"
          ],
          "name": "stderr"
        },
        {
          "output_type": "stream",
          "text": [
            "Validation Loss: 14.46\n",
            "Validation Loss: 14.45\n",
            "Validation Loss: 14.44\n",
            "Validation Loss: 14.44\n"
          ],
          "name": "stdout"
        },
        {
          "output_type": "stream",
          "text": [
            "Epoch: 137/500 Train Loss 1.93: 100%|██████████| 25/25 [00:00<00:00, 243.25it/s]\n",
            "Epoch: 138/500 Train Loss 1.93: 100%|██████████| 25/25 [00:00<00:00, 351.88it/s]\n",
            "Epoch: 139/500 Train Loss 1.93: 100%|██████████| 25/25 [00:00<00:00, 344.82it/s]\n",
            "Epoch: 140/500 Train Loss 0.49:   0%|          | 0/25 [00:00<?, ?it/s]"
          ],
          "name": "stderr"
        },
        {
          "output_type": "stream",
          "text": [
            "Validation Loss: 14.43\n",
            "Validation Loss: 14.43\n",
            "Validation Loss: 14.43\n"
          ],
          "name": "stdout"
        },
        {
          "output_type": "stream",
          "text": [
            "Epoch: 140/500 Train Loss 1.93: 100%|██████████| 25/25 [00:00<00:00, 382.81it/s]\n",
            "Epoch: 141/500 Train Loss 1.94: 100%|██████████| 25/25 [00:00<00:00, 433.53it/s]\n",
            "Epoch: 142/500 Train Loss 1.94: 100%|██████████| 25/25 [00:00<00:00, 406.78it/s]\n",
            "Epoch: 143/500 Train Loss 2.12:   0%|          | 0/25 [00:00<?, ?it/s]"
          ],
          "name": "stderr"
        },
        {
          "output_type": "stream",
          "text": [
            "Validation Loss: 14.42\n",
            "Validation Loss: 14.42\n",
            "Validation Loss: 14.42\n"
          ],
          "name": "stdout"
        },
        {
          "output_type": "stream",
          "text": [
            "Epoch: 143/500 Train Loss 1.94: 100%|██████████| 25/25 [00:00<00:00, 336.21it/s]\n",
            "Epoch: 144/500 Train Loss 1.94: 100%|██████████| 25/25 [00:00<00:00, 353.49it/s]\n",
            "Epoch: 145/500 Train Loss 1.94: 100%|██████████| 25/25 [00:00<00:00, 315.21it/s]\n",
            "Epoch: 146/500 Train Loss 2.30:   0%|          | 0/25 [00:00<?, ?it/s]"
          ],
          "name": "stderr"
        },
        {
          "output_type": "stream",
          "text": [
            "Validation Loss: 14.41\n",
            "Validation Loss: 14.41\n",
            "Validation Loss: 14.41\n"
          ],
          "name": "stdout"
        },
        {
          "output_type": "stream",
          "text": [
            "Epoch: 146/500 Train Loss 1.94: 100%|██████████| 25/25 [00:00<00:00, 369.62it/s]\n",
            "Epoch: 147/500 Train Loss 1.94: 100%|██████████| 25/25 [00:00<00:00, 353.43it/s]\n",
            "Epoch: 148/500 Train Loss 1.94: 100%|██████████| 25/25 [00:00<00:00, 416.90it/s]\n",
            "Epoch: 149/500 Train Loss 1.45:   0%|          | 0/25 [00:00<?, ?it/s]"
          ],
          "name": "stderr"
        },
        {
          "output_type": "stream",
          "text": [
            "Validation Loss: 14.41\n",
            "Validation Loss: 14.40\n",
            "Validation Loss: 14.40\n"
          ],
          "name": "stdout"
        },
        {
          "output_type": "stream",
          "text": [
            "Epoch: 149/500 Train Loss 1.95: 100%|██████████| 25/25 [00:00<00:00, 340.74it/s]\n",
            "Epoch: 150/500 Train Loss 1.95: 100%|██████████| 25/25 [00:00<00:00, 446.54it/s]\n",
            "Epoch: 151/500 Train Loss 1.95: 100%|██████████| 25/25 [00:00<00:00, 374.87it/s]\n",
            "Epoch: 152/500 Train Loss 1.44:   0%|          | 0/25 [00:00<?, ?it/s]"
          ],
          "name": "stderr"
        },
        {
          "output_type": "stream",
          "text": [
            "Validation Loss: 14.40\n",
            "Validation Loss: 14.40\n",
            "Validation Loss: 14.40\n"
          ],
          "name": "stdout"
        },
        {
          "output_type": "stream",
          "text": [
            "Epoch: 152/500 Train Loss 1.95: 100%|██████████| 25/25 [00:00<00:00, 442.55it/s]\n",
            "Epoch: 153/500 Train Loss 1.95: 100%|██████████| 25/25 [00:00<00:00, 463.71it/s]\n",
            "Epoch: 154/500 Train Loss 1.95: 100%|██████████| 25/25 [00:00<00:00, 415.37it/s]\n",
            "Epoch: 155/500 Train Loss 1.20:   0%|          | 0/25 [00:00<?, ?it/s]"
          ],
          "name": "stderr"
        },
        {
          "output_type": "stream",
          "text": [
            "Validation Loss: 14.40\n",
            "Validation Loss: 14.39\n",
            "Validation Loss: 14.39\n"
          ],
          "name": "stdout"
        },
        {
          "output_type": "stream",
          "text": [
            "Epoch: 155/500 Train Loss 1.95: 100%|██████████| 25/25 [00:00<00:00, 390.19it/s]\n",
            "Epoch: 156/500 Train Loss 1.96: 100%|██████████| 25/25 [00:00<00:00, 396.23it/s]\n",
            "Epoch: 157/500 Train Loss 1.96: 100%|██████████| 25/25 [00:00<00:00, 392.76it/s]\n",
            "Epoch: 158/500 Train Loss 0.48:   0%|          | 0/25 [00:00<?, ?it/s]"
          ],
          "name": "stderr"
        },
        {
          "output_type": "stream",
          "text": [
            "Validation Loss: 14.39\n",
            "Validation Loss: 14.39\n",
            "Validation Loss: 14.39\n"
          ],
          "name": "stdout"
        },
        {
          "output_type": "stream",
          "text": [
            "Epoch: 158/500 Train Loss 1.96: 100%|██████████| 25/25 [00:00<00:00, 388.15it/s]\n",
            "Epoch: 159/500 Train Loss 1.96: 100%|██████████| 25/25 [00:00<00:00, 395.76it/s]\n",
            "Epoch: 160/500 Train Loss 1.96: 100%|██████████| 25/25 [00:00<00:00, 390.70it/s]\n",
            "Epoch: 161/500 Train Loss 1.20:   0%|          | 0/25 [00:00<?, ?it/s]"
          ],
          "name": "stderr"
        },
        {
          "output_type": "stream",
          "text": [
            "Validation Loss: 14.39\n",
            "Validation Loss: 14.39\n",
            "Validation Loss: 14.39\n"
          ],
          "name": "stdout"
        },
        {
          "output_type": "stream",
          "text": [
            "Epoch: 161/500 Train Loss 1.96: 100%|██████████| 25/25 [00:00<00:00, 370.50it/s]\n",
            "Epoch: 162/500 Train Loss 1.97: 100%|██████████| 25/25 [00:00<00:00, 322.37it/s]\n",
            "Epoch: 163/500 Train Loss 1.97: 100%|██████████| 25/25 [00:00<00:00, 315.59it/s]\n"
          ],
          "name": "stderr"
        },
        {
          "output_type": "stream",
          "text": [
            "Validation Loss: 14.39\n",
            "Validation Loss: 14.39\n",
            "Validation Loss: 14.39\n"
          ],
          "name": "stdout"
        },
        {
          "output_type": "stream",
          "text": [
            "Epoch: 164/500 Train Loss 1.97: 100%|██████████| 25/25 [00:00<00:00, 336.11it/s]\n",
            "Epoch: 165/500 Train Loss 1.97: 100%|██████████| 25/25 [00:00<00:00, 371.00it/s]\n",
            "Epoch: 166/500 Train Loss 1.97: 100%|██████████| 25/25 [00:00<00:00, 366.20it/s]\n",
            "Epoch: 167/500 Train Loss 1.41:   0%|          | 0/25 [00:00<?, ?it/s]"
          ],
          "name": "stderr"
        },
        {
          "output_type": "stream",
          "text": [
            "Validation Loss: 14.38\n",
            "Validation Loss: 14.38\n",
            "Validation Loss: 14.38\n"
          ],
          "name": "stdout"
        },
        {
          "output_type": "stream",
          "text": [
            "Epoch: 167/500 Train Loss 1.97: 100%|██████████| 25/25 [00:00<00:00, 496.44it/s]\n",
            "Epoch: 168/500 Train Loss 1.98: 100%|██████████| 25/25 [00:00<00:00, 356.20it/s]\n",
            "Epoch: 169/500 Train Loss 1.98: 100%|██████████| 25/25 [00:00<00:00, 393.46it/s]\n",
            "Epoch: 170/500 Train Loss 1.40:   0%|          | 0/25 [00:00<?, ?it/s]"
          ],
          "name": "stderr"
        },
        {
          "output_type": "stream",
          "text": [
            "Validation Loss: 14.38\n",
            "Validation Loss: 14.38\n",
            "Validation Loss: 14.38\n"
          ],
          "name": "stdout"
        },
        {
          "output_type": "stream",
          "text": [
            "Epoch: 170/500 Train Loss 1.98: 100%|██████████| 25/25 [00:00<00:00, 224.36it/s]\n",
            "Epoch: 171/500 Train Loss 1.98: 100%|██████████| 25/25 [00:00<00:00, 310.77it/s]\n",
            "Epoch: 172/500 Train Loss 1.98: 100%|██████████| 25/25 [00:00<00:00, 326.43it/s]\n",
            "Epoch: 173/500 Train Loss 3.29:   0%|          | 0/25 [00:00<?, ?it/s]"
          ],
          "name": "stderr"
        },
        {
          "output_type": "stream",
          "text": [
            "Validation Loss: 14.38\n",
            "Validation Loss: 14.38\n",
            "Validation Loss: 14.38\n"
          ],
          "name": "stdout"
        },
        {
          "output_type": "stream",
          "text": [
            "Epoch: 173/500 Train Loss 1.98: 100%|██████████| 25/25 [00:00<00:00, 278.59it/s]\n",
            "Epoch: 174/500 Train Loss 1.99: 100%|██████████| 25/25 [00:00<00:00, 346.21it/s]\n",
            "Epoch: 175/500 Train Loss 1.99: 100%|██████████| 25/25 [00:00<00:00, 332.16it/s]\n",
            "Epoch: 176/500 Train Loss 1.39:   0%|          | 0/25 [00:00<?, ?it/s]"
          ],
          "name": "stderr"
        },
        {
          "output_type": "stream",
          "text": [
            "Validation Loss: 14.38\n",
            "Validation Loss: 14.38\n",
            "Validation Loss: 14.38\n"
          ],
          "name": "stdout"
        },
        {
          "output_type": "stream",
          "text": [
            "Epoch: 176/500 Train Loss 1.99: 100%|██████████| 25/25 [00:00<00:00, 407.32it/s]\n",
            "Epoch: 177/500 Train Loss 1.99: 100%|██████████| 25/25 [00:00<00:00, 402.64it/s]\n",
            "Epoch: 178/500 Train Loss 1.99: 100%|██████████| 25/25 [00:00<00:00, 404.41it/s]\n",
            "Epoch: 179/500 Train Loss 1.83:   0%|          | 0/25 [00:00<?, ?it/s]"
          ],
          "name": "stderr"
        },
        {
          "output_type": "stream",
          "text": [
            "Validation Loss: 14.38\n",
            "Validation Loss: 14.38\n",
            "Validation Loss: 14.38\n"
          ],
          "name": "stdout"
        },
        {
          "output_type": "stream",
          "text": [
            "Epoch: 179/500 Train Loss 1.99: 100%|██████████| 25/25 [00:00<00:00, 405.78it/s]\n",
            "Epoch: 180/500 Train Loss 2.00: 100%|██████████| 25/25 [00:00<00:00, 403.08it/s]\n",
            "Epoch: 181/500 Train Loss 2.00: 100%|██████████| 25/25 [00:00<00:00, 273.97it/s]\n",
            "Epoch: 182/500 Train Loss 2.19:   0%|          | 0/25 [00:00<?, ?it/s]"
          ],
          "name": "stderr"
        },
        {
          "output_type": "stream",
          "text": [
            "Validation Loss: 14.38\n",
            "Validation Loss: 14.38\n",
            "Validation Loss: 14.38\n"
          ],
          "name": "stdout"
        },
        {
          "output_type": "stream",
          "text": [
            "Epoch: 182/500 Train Loss 2.00: 100%|██████████| 25/25 [00:00<00:00, 245.72it/s]\n",
            "Epoch: 183/500 Train Loss 2.00: 100%|██████████| 25/25 [00:00<00:00, 263.18it/s]\n",
            "Epoch: 184/500 Train Loss 2.00: 100%|██████████| 25/25 [00:00<00:00, 389.03it/s]\n",
            "Epoch: 185/500 Train Loss 2.39:   0%|          | 0/25 [00:00<?, ?it/s]"
          ],
          "name": "stderr"
        },
        {
          "output_type": "stream",
          "text": [
            "Validation Loss: 14.38\n",
            "Validation Loss: 14.38\n",
            "Validation Loss: 14.38\n"
          ],
          "name": "stdout"
        },
        {
          "output_type": "stream",
          "text": [
            "Epoch: 185/500 Train Loss 2.00: 100%|██████████| 25/25 [00:00<00:00, 332.14it/s]\n",
            "Epoch: 186/500 Train Loss 2.01: 100%|██████████| 25/25 [00:00<00:00, 311.70it/s]\n",
            "Epoch: 187/500 Train Loss 2.01: 100%|██████████| 25/25 [00:00<00:00, 337.28it/s]\n",
            "Epoch: 188/500 Train Loss 2.09:   0%|          | 0/25 [00:00<?, ?it/s]"
          ],
          "name": "stderr"
        },
        {
          "output_type": "stream",
          "text": [
            "Validation Loss: 14.38\n",
            "Validation Loss: 14.38\n",
            "Validation Loss: 14.38\n"
          ],
          "name": "stdout"
        },
        {
          "output_type": "stream",
          "text": [
            "Epoch: 188/500 Train Loss 2.01: 100%|██████████| 25/25 [00:00<00:00, 341.47it/s]\n",
            "Epoch: 189/500 Train Loss 2.01: 100%|██████████| 25/25 [00:00<00:00, 341.50it/s]\n",
            "Epoch: 190/500 Train Loss 2.01: 100%|██████████| 25/25 [00:00<00:00, 290.61it/s]\n"
          ],
          "name": "stderr"
        },
        {
          "output_type": "stream",
          "text": [
            "Validation Loss: 14.38\n",
            "Validation Loss: 14.39\n",
            "Validation Loss: 14.39\n"
          ],
          "name": "stdout"
        },
        {
          "output_type": "stream",
          "text": [
            "Epoch: 191/500 Train Loss 2.01: 100%|██████████| 25/25 [00:00<00:00, 363.66it/s]\n",
            "Epoch: 192/500 Train Loss 2.02: 100%|██████████| 25/25 [00:00<00:00, 322.71it/s]\n",
            "Epoch: 193/500 Train Loss 2.02: 100%|██████████| 25/25 [00:00<00:00, 263.26it/s]\n"
          ],
          "name": "stderr"
        },
        {
          "output_type": "stream",
          "text": [
            "Validation Loss: 14.39\n",
            "Validation Loss: 14.39\n",
            "Validation Loss: 14.39\n"
          ],
          "name": "stdout"
        },
        {
          "output_type": "stream",
          "text": [
            "Epoch: 194/500 Train Loss 2.02: 100%|██████████| 25/25 [00:00<00:00, 349.55it/s]\n",
            "Epoch: 195/500 Train Loss 2.02: 100%|██████████| 25/25 [00:00<00:00, 257.45it/s]\n",
            "Epoch: 196/500 Train Loss 2.13:   0%|          | 0/25 [00:00<?, ?it/s]"
          ],
          "name": "stderr"
        },
        {
          "output_type": "stream",
          "text": [
            "Validation Loss: 14.39\n",
            "Validation Loss: 14.39\n"
          ],
          "name": "stdout"
        },
        {
          "output_type": "stream",
          "text": [
            "Epoch: 196/500 Train Loss 2.02: 100%|██████████| 25/25 [00:00<00:00, 246.87it/s]\n",
            "Epoch: 197/500 Train Loss 2.03: 100%|██████████| 25/25 [00:00<00:00, 443.02it/s]\n",
            "Epoch: 198/500 Train Loss 2.03: 100%|██████████| 25/25 [00:00<00:00, 427.61it/s]\n",
            "Epoch: 199/500 Train Loss 1.76:   0%|          | 0/25 [00:00<?, ?it/s]"
          ],
          "name": "stderr"
        },
        {
          "output_type": "stream",
          "text": [
            "Validation Loss: 14.39\n",
            "Validation Loss: 14.39\n",
            "Validation Loss: 14.39\n"
          ],
          "name": "stdout"
        },
        {
          "output_type": "stream",
          "text": [
            "Epoch: 199/500 Train Loss 2.03: 100%|██████████| 25/25 [00:00<00:00, 225.86it/s]\n",
            "Epoch: 200/500 Train Loss 2.03: 100%|██████████| 25/25 [00:00<00:00, 203.33it/s]\n",
            "Epoch: 201/500 Train Loss 1.33:   0%|          | 0/25 [00:00<?, ?it/s]"
          ],
          "name": "stderr"
        },
        {
          "output_type": "stream",
          "text": [
            "Validation Loss: 14.39\n",
            "Validation Loss: 14.39\n"
          ],
          "name": "stdout"
        },
        {
          "output_type": "stream",
          "text": [
            "Epoch: 201/500 Train Loss 2.03: 100%|██████████| 25/25 [00:00<00:00, 180.80it/s]\n",
            "Epoch: 202/500 Train Loss 2.03: 100%|██████████| 25/25 [00:00<00:00, 329.27it/s]\n",
            "Epoch: 203/500 Train Loss 2.04: 100%|██████████| 25/25 [00:00<00:00, 477.33it/s]\n",
            "Epoch: 204/500 Train Loss 1.90:   0%|          | 0/25 [00:00<?, ?it/s]"
          ],
          "name": "stderr"
        },
        {
          "output_type": "stream",
          "text": [
            "Validation Loss: 14.39\n",
            "Validation Loss: 14.40\n",
            "Validation Loss: 14.40\n"
          ],
          "name": "stdout"
        },
        {
          "output_type": "stream",
          "text": [
            "Epoch: 204/500 Train Loss 2.04: 100%|██████████| 25/25 [00:00<00:00, 482.00it/s]\n",
            "Epoch: 205/500 Train Loss 2.04: 100%|██████████| 25/25 [00:00<00:00, 436.26it/s]\n",
            "Epoch: 206/500 Train Loss 2.04: 100%|██████████| 25/25 [00:00<00:00, 262.12it/s]\n",
            "Epoch: 207/500 Train Loss 3.35:   0%|          | 0/25 [00:00<?, ?it/s]"
          ],
          "name": "stderr"
        },
        {
          "output_type": "stream",
          "text": [
            "Validation Loss: 14.40\n",
            "Validation Loss: 14.40\n",
            "Validation Loss: 14.40\n"
          ],
          "name": "stdout"
        },
        {
          "output_type": "stream",
          "text": [
            "Epoch: 207/500 Train Loss 2.04: 100%|██████████| 25/25 [00:00<00:00, 369.63it/s]\n",
            "Epoch: 208/500 Train Loss 2.04: 100%|██████████| 25/25 [00:00<00:00, 425.85it/s]\n",
            "Epoch: 209/500 Train Loss 2.05: 100%|██████████| 25/25 [00:00<00:00, 291.61it/s]\n",
            "Epoch: 210/500 Train Loss 2.14:   0%|          | 0/25 [00:00<?, ?it/s]"
          ],
          "name": "stderr"
        },
        {
          "output_type": "stream",
          "text": [
            "Validation Loss: 14.40\n",
            "Validation Loss: 14.40\n",
            "Validation Loss: 14.40\n"
          ],
          "name": "stdout"
        },
        {
          "output_type": "stream",
          "text": [
            "Epoch: 210/500 Train Loss 2.05: 100%|██████████| 25/25 [00:00<00:00, 379.19it/s]\n",
            "Epoch: 211/500 Train Loss 2.05: 100%|██████████| 25/25 [00:00<00:00, 419.23it/s]\n",
            "Epoch: 212/500 Train Loss 2.05: 100%|██████████| 25/25 [00:00<00:00, 435.44it/s]\n",
            "Epoch: 213/500 Train Loss 1.91:   0%|          | 0/25 [00:00<?, ?it/s]"
          ],
          "name": "stderr"
        },
        {
          "output_type": "stream",
          "text": [
            "Validation Loss: 14.41\n",
            "Validation Loss: 14.41\n",
            "Validation Loss: 14.41\n"
          ],
          "name": "stdout"
        },
        {
          "output_type": "stream",
          "text": [
            "Epoch: 213/500 Train Loss 2.05: 100%|██████████| 25/25 [00:00<00:00, 312.93it/s]\n",
            "Epoch: 214/500 Train Loss 2.06: 100%|██████████| 25/25 [00:00<00:00, 282.51it/s]\n",
            "Epoch: 215/500 Train Loss 2.06: 100%|██████████| 25/25 [00:00<00:00, 473.13it/s]\n",
            "Epoch: 216/500 Train Loss 2.23:   0%|          | 0/25 [00:00<?, ?it/s]"
          ],
          "name": "stderr"
        },
        {
          "output_type": "stream",
          "text": [
            "Validation Loss: 14.41\n",
            "Validation Loss: 14.41\n",
            "Validation Loss: 14.41\n"
          ],
          "name": "stdout"
        },
        {
          "output_type": "stream",
          "text": [
            "Epoch: 216/500 Train Loss 2.06: 100%|██████████| 25/25 [00:00<00:00, 490.61it/s]\n",
            "Epoch: 217/500 Train Loss 2.06: 100%|██████████| 25/25 [00:00<00:00, 318.52it/s]\n",
            "Epoch: 218/500 Train Loss 2.06: 100%|██████████| 25/25 [00:00<00:00, 372.78it/s]\n",
            "Epoch: 219/500 Train Loss 1.73:   0%|          | 0/25 [00:00<?, ?it/s]"
          ],
          "name": "stderr"
        },
        {
          "output_type": "stream",
          "text": [
            "Validation Loss: 14.41\n",
            "Validation Loss: 14.42\n",
            "Validation Loss: 14.42\n"
          ],
          "name": "stdout"
        },
        {
          "output_type": "stream",
          "text": [
            "Epoch: 219/500 Train Loss 2.06: 100%|██████████| 25/25 [00:00<00:00, 484.88it/s]\n",
            "Epoch: 220/500 Train Loss 2.07: 100%|██████████| 25/25 [00:00<00:00, 428.09it/s]\n",
            "Epoch: 221/500 Train Loss 2.07: 100%|██████████| 25/25 [00:00<00:00, 434.82it/s]\n",
            "Epoch: 222/500 Train Loss 1.88:   0%|          | 0/25 [00:00<?, ?it/s]"
          ],
          "name": "stderr"
        },
        {
          "output_type": "stream",
          "text": [
            "Validation Loss: 14.42\n",
            "Validation Loss: 14.42\n",
            "Validation Loss: 14.42\n"
          ],
          "name": "stdout"
        },
        {
          "output_type": "stream",
          "text": [
            "Epoch: 222/500 Train Loss 2.07: 100%|██████████| 25/25 [00:00<00:00, 378.07it/s]\n",
            "Epoch: 223/500 Train Loss 2.07: 100%|██████████| 25/25 [00:00<00:00, 424.29it/s]\n",
            "Epoch: 224/500 Train Loss 2.07: 100%|██████████| 25/25 [00:00<00:00, 431.63it/s]\n",
            "Epoch: 225/500 Train Loss 0.63:   0%|          | 0/25 [00:00<?, ?it/s]"
          ],
          "name": "stderr"
        },
        {
          "output_type": "stream",
          "text": [
            "Validation Loss: 14.42\n",
            "Validation Loss: 14.42\n",
            "Validation Loss: 14.43\n"
          ],
          "name": "stdout"
        },
        {
          "output_type": "stream",
          "text": [
            "Epoch: 225/500 Train Loss 2.07: 100%|██████████| 25/25 [00:00<00:00, 445.07it/s]\n",
            "Epoch: 226/500 Train Loss 2.08: 100%|██████████| 25/25 [00:00<00:00, 392.62it/s]\n",
            "Epoch: 227/500 Train Loss 2.08: 100%|██████████| 25/25 [00:00<00:00, 458.59it/s]\n",
            "Epoch: 228/500 Train Loss 1.68:   0%|          | 0/25 [00:00<?, ?it/s]"
          ],
          "name": "stderr"
        },
        {
          "output_type": "stream",
          "text": [
            "Validation Loss: 14.43\n",
            "Validation Loss: 14.43\n",
            "Validation Loss: 14.43\n"
          ],
          "name": "stdout"
        },
        {
          "output_type": "stream",
          "text": [
            "Epoch: 228/500 Train Loss 2.08: 100%|██████████| 25/25 [00:00<00:00, 471.74it/s]\n",
            "Epoch: 229/500 Train Loss 2.08: 100%|██████████| 25/25 [00:00<00:00, 322.92it/s]\n",
            "Epoch: 230/500 Train Loss 2.08: 100%|██████████| 25/25 [00:00<00:00, 452.36it/s]\n",
            "Epoch: 231/500 Train Loss 2.14:   0%|          | 0/25 [00:00<?, ?it/s]"
          ],
          "name": "stderr"
        },
        {
          "output_type": "stream",
          "text": [
            "Validation Loss: 14.43\n",
            "Validation Loss: 14.44\n",
            "Validation Loss: 14.44\n"
          ],
          "name": "stdout"
        },
        {
          "output_type": "stream",
          "text": [
            "Epoch: 231/500 Train Loss 2.08: 100%|██████████| 25/25 [00:00<00:00, 451.70it/s]\n",
            "Epoch: 232/500 Train Loss 2.09: 100%|██████████| 25/25 [00:00<00:00, 409.82it/s]\n",
            "Epoch: 233/500 Train Loss 2.09: 100%|██████████| 25/25 [00:00<00:00, 466.94it/s]\n",
            "Epoch: 234/500 Train Loss 0.28:   0%|          | 0/25 [00:00<?, ?it/s]"
          ],
          "name": "stderr"
        },
        {
          "output_type": "stream",
          "text": [
            "Validation Loss: 14.44\n",
            "Validation Loss: 14.44\n",
            "Validation Loss: 14.44\n"
          ],
          "name": "stdout"
        },
        {
          "output_type": "stream",
          "text": [
            "Epoch: 234/500 Train Loss 2.09: 100%|██████████| 25/25 [00:00<00:00, 425.52it/s]\n",
            "Epoch: 235/500 Train Loss 2.09: 100%|██████████| 25/25 [00:00<00:00, 439.84it/s]\n",
            "Epoch: 236/500 Train Loss 2.09: 100%|██████████| 25/25 [00:00<00:00, 469.83it/s]\n",
            "Epoch: 237/500 Train Loss 0.48:   0%|          | 0/25 [00:00<?, ?it/s]"
          ],
          "name": "stderr"
        },
        {
          "output_type": "stream",
          "text": [
            "Validation Loss: 14.44\n",
            "Validation Loss: 14.45\n",
            "Validation Loss: 14.45\n"
          ],
          "name": "stdout"
        },
        {
          "output_type": "stream",
          "text": [
            "Epoch: 237/500 Train Loss 2.09: 100%|██████████| 25/25 [00:00<00:00, 428.90it/s]\n",
            "Epoch: 238/500 Train Loss 2.10: 100%|██████████| 25/25 [00:00<00:00, 422.48it/s]\n",
            "Epoch: 239/500 Train Loss 2.10: 100%|██████████| 25/25 [00:00<00:00, 440.49it/s]\n",
            "Epoch: 240/500 Train Loss 1.70:   0%|          | 0/25 [00:00<?, ?it/s]"
          ],
          "name": "stderr"
        },
        {
          "output_type": "stream",
          "text": [
            "Validation Loss: 14.45\n",
            "Validation Loss: 14.45\n",
            "Validation Loss: 14.45\n"
          ],
          "name": "stdout"
        },
        {
          "output_type": "stream",
          "text": [
            "Epoch: 240/500 Train Loss 2.10: 100%|██████████| 25/25 [00:00<00:00, 407.52it/s]\n",
            "Epoch: 241/500 Train Loss 2.10: 100%|██████████| 25/25 [00:00<00:00, 366.70it/s]\n",
            "Epoch: 242/500 Train Loss 2.10: 100%|██████████| 25/25 [00:00<00:00, 441.20it/s]\n",
            "Epoch: 243/500 Train Loss 0.49:   0%|          | 0/25 [00:00<?, ?it/s]"
          ],
          "name": "stderr"
        },
        {
          "output_type": "stream",
          "text": [
            "Validation Loss: 14.46\n",
            "Validation Loss: 14.46\n",
            "Validation Loss: 14.46\n"
          ],
          "name": "stdout"
        },
        {
          "output_type": "stream",
          "text": [
            "Epoch: 243/500 Train Loss 2.10: 100%|██████████| 25/25 [00:00<00:00, 458.56it/s]\n",
            "Epoch: 244/500 Train Loss 2.11: 100%|██████████| 25/25 [00:00<00:00, 438.71it/s]\n",
            "Epoch: 245/500 Train Loss 2.11: 100%|██████████| 25/25 [00:00<00:00, 474.45it/s]\n",
            "Epoch: 246/500 Train Loss 2.11: 100%|██████████| 25/25 [00:00<00:00, 492.53it/s]\n"
          ],
          "name": "stderr"
        },
        {
          "output_type": "stream",
          "text": [
            "Validation Loss: 14.46\n",
            "Validation Loss: 14.46\n",
            "Validation Loss: 14.47\n",
            "Validation Loss: 14.47\n"
          ],
          "name": "stdout"
        },
        {
          "output_type": "stream",
          "text": [
            "Epoch: 247/500 Train Loss 2.11: 100%|██████████| 25/25 [00:00<00:00, 406.08it/s]\n",
            "Epoch: 248/500 Train Loss 2.11: 100%|██████████| 25/25 [00:00<00:00, 499.87it/s]\n",
            "Epoch: 249/500 Train Loss 2.11: 100%|██████████| 25/25 [00:00<00:00, 326.72it/s]\n",
            "Epoch: 250/500 Train Loss 1.69:   0%|          | 0/25 [00:00<?, ?it/s]"
          ],
          "name": "stderr"
        },
        {
          "output_type": "stream",
          "text": [
            "Validation Loss: 14.47\n",
            "Validation Loss: 14.47\n",
            "Validation Loss: 14.48\n"
          ],
          "name": "stdout"
        },
        {
          "output_type": "stream",
          "text": [
            "Epoch: 250/500 Train Loss 2.12: 100%|██████████| 25/25 [00:00<00:00, 309.43it/s]\n",
            "Epoch: 251/500 Train Loss 2.12: 100%|██████████| 25/25 [00:00<00:00, 330.74it/s]\n",
            "Epoch: 252/500 Train Loss 2.12: 100%|██████████| 25/25 [00:00<00:00, 446.60it/s]\n",
            "Epoch: 253/500 Train Loss 1.71:   0%|          | 0/25 [00:00<?, ?it/s]"
          ],
          "name": "stderr"
        },
        {
          "output_type": "stream",
          "text": [
            "Validation Loss: 14.48\n",
            "Validation Loss: 14.48\n",
            "Validation Loss: 14.48\n"
          ],
          "name": "stdout"
        },
        {
          "output_type": "stream",
          "text": [
            "Epoch: 253/500 Train Loss 2.12: 100%|██████████| 25/25 [00:00<00:00, 462.05it/s]\n",
            "Epoch: 254/500 Train Loss 2.12: 100%|██████████| 25/25 [00:00<00:00, 474.71it/s]\n",
            "Epoch: 255/500 Train Loss 2.12: 100%|██████████| 25/25 [00:00<00:00, 451.34it/s]\n",
            "Epoch: 256/500 Train Loss 2.12:   0%|          | 0/25 [00:00<?, ?it/s]"
          ],
          "name": "stderr"
        },
        {
          "output_type": "stream",
          "text": [
            "Validation Loss: 14.48\n",
            "Validation Loss: 14.49\n",
            "Validation Loss: 14.49\n"
          ],
          "name": "stdout"
        },
        {
          "output_type": "stream",
          "text": [
            "Epoch: 256/500 Train Loss 2.12: 100%|██████████| 25/25 [00:00<00:00, 425.03it/s]\n",
            "Epoch: 257/500 Train Loss 2.13: 100%|██████████| 25/25 [00:00<00:00, 364.80it/s]\n",
            "Epoch: 258/500 Train Loss 2.13: 100%|██████████| 25/25 [00:00<00:00, 424.95it/s]\n",
            "Epoch: 259/500 Train Loss 1.95:   0%|          | 0/25 [00:00<?, ?it/s]"
          ],
          "name": "stderr"
        },
        {
          "output_type": "stream",
          "text": [
            "Validation Loss: 14.49\n",
            "Validation Loss: 14.49\n",
            "Validation Loss: 14.49\n"
          ],
          "name": "stdout"
        },
        {
          "output_type": "stream",
          "text": [
            "Epoch: 259/500 Train Loss 2.13: 100%|██████████| 25/25 [00:00<00:00, 433.59it/s]\n",
            "Epoch: 260/500 Train Loss 2.13: 100%|██████████| 25/25 [00:00<00:00, 395.20it/s]\n",
            "Epoch: 261/500 Train Loss 2.13: 100%|██████████| 25/25 [00:00<00:00, 389.43it/s]\n",
            "Epoch: 262/500 Train Loss 1.95:   0%|          | 0/25 [00:00<?, ?it/s]"
          ],
          "name": "stderr"
        },
        {
          "output_type": "stream",
          "text": [
            "Validation Loss: 14.50\n",
            "Validation Loss: 14.50\n",
            "Validation Loss: 14.50\n"
          ],
          "name": "stdout"
        },
        {
          "output_type": "stream",
          "text": [
            "Epoch: 262/500 Train Loss 2.13: 100%|██████████| 25/25 [00:00<00:00, 411.44it/s]\n",
            "Epoch: 263/500 Train Loss 2.14: 100%|██████████| 25/25 [00:00<00:00, 308.36it/s]\n",
            "Epoch: 264/500 Train Loss 2.14: 100%|██████████| 25/25 [00:00<00:00, 351.11it/s]\n",
            "Epoch: 265/500 Train Loss 2.82:   0%|          | 0/25 [00:00<?, ?it/s]"
          ],
          "name": "stderr"
        },
        {
          "output_type": "stream",
          "text": [
            "Validation Loss: 14.50\n",
            "Validation Loss: 14.51\n",
            "Validation Loss: 14.51\n"
          ],
          "name": "stdout"
        },
        {
          "output_type": "stream",
          "text": [
            "Epoch: 265/500 Train Loss 2.14: 100%|██████████| 25/25 [00:00<00:00, 317.02it/s]\n",
            "Epoch: 266/500 Train Loss 2.14: 100%|██████████| 25/25 [00:00<00:00, 374.85it/s]\n",
            "Epoch: 267/500 Train Loss 2.14: 100%|██████████| 25/25 [00:00<00:00, 370.80it/s]\n",
            "Epoch: 268/500 Train Loss 2.83:   0%|          | 0/25 [00:00<?, ?it/s]"
          ],
          "name": "stderr"
        },
        {
          "output_type": "stream",
          "text": [
            "Validation Loss: 14.51\n",
            "Validation Loss: 14.51\n",
            "Validation Loss: 14.52\n"
          ],
          "name": "stdout"
        },
        {
          "output_type": "stream",
          "text": [
            "Epoch: 268/500 Train Loss 2.14: 100%|██████████| 25/25 [00:00<00:00, 377.51it/s]\n",
            "Epoch: 269/500 Train Loss 2.14: 100%|██████████| 25/25 [00:00<00:00, 409.68it/s]\n",
            "Epoch: 270/500 Train Loss 2.15: 100%|██████████| 25/25 [00:00<00:00, 422.04it/s]\n",
            "Epoch: 271/500 Train Loss 2.16:   0%|          | 0/25 [00:00<?, ?it/s]"
          ],
          "name": "stderr"
        },
        {
          "output_type": "stream",
          "text": [
            "Validation Loss: 14.52\n",
            "Validation Loss: 14.52\n",
            "Validation Loss: 14.52\n"
          ],
          "name": "stdout"
        },
        {
          "output_type": "stream",
          "text": [
            "Epoch: 271/500 Train Loss 2.15: 100%|██████████| 25/25 [00:00<00:00, 415.47it/s]\n",
            "Epoch: 272/500 Train Loss 2.15: 100%|██████████| 25/25 [00:00<00:00, 274.06it/s]\n",
            "Epoch: 273/500 Train Loss 2.15: 100%|██████████| 25/25 [00:00<00:00, 392.26it/s]\n",
            "Epoch: 274/500 Train Loss 2.17:   0%|          | 0/25 [00:00<?, ?it/s]"
          ],
          "name": "stderr"
        },
        {
          "output_type": "stream",
          "text": [
            "Validation Loss: 14.52\n",
            "Validation Loss: 14.53\n",
            "Validation Loss: 14.53\n"
          ],
          "name": "stdout"
        },
        {
          "output_type": "stream",
          "text": [
            "Epoch: 274/500 Train Loss 2.15: 100%|██████████| 25/25 [00:00<00:00, 366.39it/s]\n",
            "Epoch: 275/500 Train Loss 2.15: 100%|██████████| 25/25 [00:00<00:00, 401.99it/s]\n",
            "Epoch: 276/500 Train Loss 2.15: 100%|██████████| 25/25 [00:00<00:00, 434.52it/s]\n",
            "Epoch: 277/500 Train Loss 1.96:   0%|          | 0/25 [00:00<?, ?it/s]"
          ],
          "name": "stderr"
        },
        {
          "output_type": "stream",
          "text": [
            "Validation Loss: 14.53\n",
            "Validation Loss: 14.53\n",
            "Validation Loss: 14.54\n"
          ],
          "name": "stdout"
        },
        {
          "output_type": "stream",
          "text": [
            "Epoch: 277/500 Train Loss 2.15: 100%|██████████| 25/25 [00:00<00:00, 420.98it/s]\n",
            "Epoch: 278/500 Train Loss 2.16: 100%|██████████| 25/25 [00:00<00:00, 426.22it/s]\n",
            "Epoch: 279/500 Train Loss 2.16: 100%|██████████| 25/25 [00:00<00:00, 364.60it/s]\n",
            "Epoch: 280/500 Train Loss 0.50:   0%|          | 0/25 [00:00<?, ?it/s]"
          ],
          "name": "stderr"
        },
        {
          "output_type": "stream",
          "text": [
            "Validation Loss: 14.54\n",
            "Validation Loss: 14.54\n",
            "Validation Loss: 14.54\n"
          ],
          "name": "stdout"
        },
        {
          "output_type": "stream",
          "text": [
            "Epoch: 280/500 Train Loss 2.16: 100%|██████████| 25/25 [00:00<00:00, 369.64it/s]\n",
            "Epoch: 281/500 Train Loss 2.16: 100%|██████████| 25/25 [00:00<00:00, 331.73it/s]\n",
            "Epoch: 282/500 Train Loss 2.16: 100%|██████████| 25/25 [00:00<00:00, 357.94it/s]\n",
            "Epoch: 283/500 Train Loss 2.27:   0%|          | 0/25 [00:00<?, ?it/s]"
          ],
          "name": "stderr"
        },
        {
          "output_type": "stream",
          "text": [
            "Validation Loss: 14.54\n",
            "Validation Loss: 14.55\n",
            "Validation Loss: 14.55\n"
          ],
          "name": "stdout"
        },
        {
          "output_type": "stream",
          "text": [
            "Epoch: 283/500 Train Loss 2.16: 100%|██████████| 25/25 [00:00<00:00, 354.10it/s]\n",
            "Epoch: 284/500 Train Loss 2.16: 100%|██████████| 25/25 [00:00<00:00, 433.94it/s]\n",
            "Epoch: 285/500 Train Loss 2.17: 100%|██████████| 25/25 [00:00<00:00, 394.55it/s]\n",
            "Epoch: 286/500 Train Loss 2.16:   0%|          | 0/25 [00:00<?, ?it/s]"
          ],
          "name": "stderr"
        },
        {
          "output_type": "stream",
          "text": [
            "Validation Loss: 14.55\n",
            "Validation Loss: 14.55\n",
            "Validation Loss: 14.56\n"
          ],
          "name": "stdout"
        },
        {
          "output_type": "stream",
          "text": [
            "Epoch: 286/500 Train Loss 2.17: 100%|██████████| 25/25 [00:00<00:00, 377.87it/s]\n",
            "Epoch: 287/500 Train Loss 2.17: 100%|██████████| 25/25 [00:00<00:00, 381.93it/s]\n",
            "Epoch: 288/500 Train Loss 2.17: 100%|██████████| 25/25 [00:00<00:00, 404.10it/s]\n",
            "Epoch: 289/500 Train Loss 2.16:   0%|          | 0/25 [00:00<?, ?it/s]"
          ],
          "name": "stderr"
        },
        {
          "output_type": "stream",
          "text": [
            "Validation Loss: 14.56\n",
            "Validation Loss: 14.56\n",
            "Validation Loss: 14.56\n"
          ],
          "name": "stdout"
        },
        {
          "output_type": "stream",
          "text": [
            "Epoch: 289/500 Train Loss 2.17: 100%|██████████| 25/25 [00:00<00:00, 398.39it/s]\n",
            "Epoch: 290/500 Train Loss 2.17: 100%|██████████| 25/25 [00:00<00:00, 419.70it/s]\n",
            "Epoch: 291/500 Train Loss 2.17: 100%|██████████| 25/25 [00:00<00:00, 392.43it/s]\n",
            "Epoch: 292/500 Train Loss 1.65:   0%|          | 0/25 [00:00<?, ?it/s]"
          ],
          "name": "stderr"
        },
        {
          "output_type": "stream",
          "text": [
            "Validation Loss: 14.57\n",
            "Validation Loss: 14.57\n",
            "Validation Loss: 14.57\n"
          ],
          "name": "stdout"
        },
        {
          "output_type": "stream",
          "text": [
            "Epoch: 292/500 Train Loss 2.17: 100%|██████████| 25/25 [00:00<00:00, 420.83it/s]\n",
            "Epoch: 293/500 Train Loss 2.18: 100%|██████████| 25/25 [00:00<00:00, 419.73it/s]\n",
            "Epoch: 294/500 Train Loss 2.18: 100%|██████████| 25/25 [00:00<00:00, 384.40it/s]\n",
            "Epoch: 295/500 Train Loss 1.86:   0%|          | 0/25 [00:00<?, ?it/s]"
          ],
          "name": "stderr"
        },
        {
          "output_type": "stream",
          "text": [
            "Validation Loss: 14.57\n",
            "Validation Loss: 14.57\n",
            "Validation Loss: 14.58\n"
          ],
          "name": "stdout"
        },
        {
          "output_type": "stream",
          "text": [
            "Epoch: 295/500 Train Loss 2.18: 100%|██████████| 25/25 [00:00<00:00, 411.18it/s]\n",
            "Epoch: 296/500 Train Loss 2.18: 100%|██████████| 25/25 [00:00<00:00, 407.01it/s]\n",
            "Epoch: 297/500 Train Loss 2.18: 100%|██████████| 25/25 [00:00<00:00, 417.53it/s]\n",
            "Epoch: 298/500 Train Loss 1.86:   0%|          | 0/25 [00:00<?, ?it/s]"
          ],
          "name": "stderr"
        },
        {
          "output_type": "stream",
          "text": [
            "Validation Loss: 14.58\n",
            "Validation Loss: 14.58\n",
            "Validation Loss: 14.58\n"
          ],
          "name": "stdout"
        },
        {
          "output_type": "stream",
          "text": [
            "Epoch: 298/500 Train Loss 2.18: 100%|██████████| 25/25 [00:00<00:00, 351.48it/s]\n",
            "Epoch: 299/500 Train Loss 2.18: 100%|██████████| 25/25 [00:00<00:00, 376.64it/s]\n",
            "Epoch: 300/500 Train Loss 2.18: 100%|██████████| 25/25 [00:00<00:00, 332.09it/s]\n",
            "Epoch: 301/500 Train Loss: NA:   0%|          | 0/25 [00:00<?, ?it/s]"
          ],
          "name": "stderr"
        },
        {
          "output_type": "stream",
          "text": [
            "Validation Loss: 14.59\n",
            "Validation Loss: 14.59\n",
            "Validation Loss: 14.59\n"
          ],
          "name": "stdout"
        },
        {
          "output_type": "stream",
          "text": [
            "Epoch: 301/500 Train Loss 2.18: 100%|██████████| 25/25 [00:00<00:00, 287.81it/s]\n",
            "Epoch: 302/500 Train Loss 2.19: 100%|██████████| 25/25 [00:00<00:00, 321.19it/s]\n",
            "Epoch: 303/500 Train Loss 2.19: 100%|██████████| 25/25 [00:00<00:00, 444.58it/s]\n",
            "Epoch: 304/500 Train Loss 0.65:   0%|          | 0/25 [00:00<?, ?it/s]"
          ],
          "name": "stderr"
        },
        {
          "output_type": "stream",
          "text": [
            "Validation Loss: 14.59\n",
            "Validation Loss: 14.59\n",
            "Validation Loss: 14.60\n"
          ],
          "name": "stdout"
        },
        {
          "output_type": "stream",
          "text": [
            "Epoch: 304/500 Train Loss 2.19: 100%|██████████| 25/25 [00:00<00:00, 454.66it/s]\n",
            "Epoch: 305/500 Train Loss 2.19: 100%|██████████| 25/25 [00:00<00:00, 451.76it/s]\n",
            "Epoch: 306/500 Train Loss 2.19: 100%|██████████| 25/25 [00:00<00:00, 443.03it/s]\n",
            "Epoch: 307/500 Train Loss 1.64:   0%|          | 0/25 [00:00<?, ?it/s]"
          ],
          "name": "stderr"
        },
        {
          "output_type": "stream",
          "text": [
            "Validation Loss: 14.60\n",
            "Validation Loss: 14.60\n",
            "Validation Loss: 14.60\n"
          ],
          "name": "stdout"
        },
        {
          "output_type": "stream",
          "text": [
            "Epoch: 307/500 Train Loss 2.19: 100%|██████████| 25/25 [00:00<00:00, 391.07it/s]\n",
            "Epoch: 308/500 Train Loss 2.19: 100%|██████████| 25/25 [00:00<00:00, 442.48it/s]\n",
            "Epoch: 309/500 Train Loss 2.19: 100%|██████████| 25/25 [00:00<00:00, 432.12it/s]\n",
            "Epoch: 310/500 Train Loss 0.36:   0%|          | 0/25 [00:00<?, ?it/s]"
          ],
          "name": "stderr"
        },
        {
          "output_type": "stream",
          "text": [
            "Validation Loss: 14.60\n",
            "Validation Loss: 14.61\n",
            "Validation Loss: 14.61\n"
          ],
          "name": "stdout"
        },
        {
          "output_type": "stream",
          "text": [
            "Epoch: 310/500 Train Loss 2.19: 100%|██████████| 25/25 [00:00<00:00, 473.71it/s]\n",
            "Epoch: 311/500 Train Loss 2.20: 100%|██████████| 25/25 [00:00<00:00, 358.53it/s]\n",
            "Epoch: 312/500 Train Loss 2.20: 100%|██████████| 25/25 [00:00<00:00, 431.64it/s]\n",
            "Epoch: 313/500 Train Loss 1.65:   0%|          | 0/25 [00:00<?, ?it/s]"
          ],
          "name": "stderr"
        },
        {
          "output_type": "stream",
          "text": [
            "Validation Loss: 14.61\n",
            "Validation Loss: 14.61\n",
            "Validation Loss: 14.62\n"
          ],
          "name": "stdout"
        },
        {
          "output_type": "stream",
          "text": [
            "Epoch: 313/500 Train Loss 2.20: 100%|██████████| 25/25 [00:00<00:00, 427.02it/s]\n",
            "Epoch: 314/500 Train Loss 2.20: 100%|██████████| 25/25 [00:00<00:00, 478.73it/s]\n",
            "Epoch: 315/500 Train Loss 2.20: 100%|██████████| 25/25 [00:00<00:00, 477.73it/s]\n",
            "Epoch: 316/500 Train Loss 2.20:   0%|          | 0/25 [00:00<?, ?it/s]"
          ],
          "name": "stderr"
        },
        {
          "output_type": "stream",
          "text": [
            "Validation Loss: 14.62\n",
            "Validation Loss: 14.62\n",
            "Validation Loss: 14.62\n"
          ],
          "name": "stdout"
        },
        {
          "output_type": "stream",
          "text": [
            "Epoch: 316/500 Train Loss 2.20: 100%|██████████| 25/25 [00:00<00:00, 456.44it/s]\n",
            "Epoch: 317/500 Train Loss 2.20: 100%|██████████| 25/25 [00:00<00:00, 439.08it/s]\n",
            "Epoch: 318/500 Train Loss 2.20: 100%|██████████| 25/25 [00:00<00:00, 326.38it/s]\n",
            "Epoch: 319/500 Train Loss 2.14:   0%|          | 0/25 [00:00<?, ?it/s]"
          ],
          "name": "stderr"
        },
        {
          "output_type": "stream",
          "text": [
            "Validation Loss: 14.62\n",
            "Validation Loss: 14.63\n",
            "Validation Loss: 14.63\n"
          ],
          "name": "stdout"
        },
        {
          "output_type": "stream",
          "text": [
            "Epoch: 319/500 Train Loss 2.20: 100%|██████████| 25/25 [00:00<00:00, 354.61it/s]\n",
            "Epoch: 320/500 Train Loss 2.21: 100%|██████████| 25/25 [00:00<00:00, 388.32it/s]\n",
            "Epoch: 321/500 Train Loss 2.21: 100%|██████████| 25/25 [00:00<00:00, 452.73it/s]\n",
            "Epoch: 322/500 Train Loss 1.79:   0%|          | 0/25 [00:00<?, ?it/s]"
          ],
          "name": "stderr"
        },
        {
          "output_type": "stream",
          "text": [
            "Validation Loss: 14.63\n",
            "Validation Loss: 14.63\n",
            "Validation Loss: 14.63\n"
          ],
          "name": "stdout"
        },
        {
          "output_type": "stream",
          "text": [
            "Epoch: 322/500 Train Loss 2.21: 100%|██████████| 25/25 [00:00<00:00, 442.38it/s]\n",
            "Epoch: 323/500 Train Loss 2.21: 100%|██████████| 25/25 [00:00<00:00, 356.21it/s]\n",
            "Epoch: 324/500 Train Loss 2.21: 100%|██████████| 25/25 [00:00<00:00, 240.08it/s]\n"
          ],
          "name": "stderr"
        },
        {
          "output_type": "stream",
          "text": [
            "Validation Loss: 14.64\n",
            "Validation Loss: 14.64\n",
            "Validation Loss: 14.64\n"
          ],
          "name": "stdout"
        },
        {
          "output_type": "stream",
          "text": [
            "Epoch: 325/500 Train Loss 2.21: 100%|██████████| 25/25 [00:00<00:00, 315.51it/s]\n",
            "Epoch: 326/500 Train Loss 2.21: 100%|██████████| 25/25 [00:00<00:00, 484.00it/s]\n",
            "Epoch: 327/500 Train Loss 2.21: 100%|██████████| 25/25 [00:00<00:00, 486.39it/s]\n",
            "Epoch: 328/500 Train Loss 2.21: 100%|██████████| 25/25 [00:00<00:00, 449.01it/s]\n",
            "Epoch: 329/500 Train Loss: NA:   0%|          | 0/25 [00:00<?, ?it/s]"
          ],
          "name": "stderr"
        },
        {
          "output_type": "stream",
          "text": [
            "Validation Loss: 14.64\n",
            "Validation Loss: 14.64\n",
            "Validation Loss: 14.65\n",
            "Validation Loss: 14.65\n"
          ],
          "name": "stdout"
        },
        {
          "output_type": "stream",
          "text": [
            "Epoch: 329/500 Train Loss 2.21: 100%|██████████| 25/25 [00:00<00:00, 421.57it/s]\n",
            "Epoch: 330/500 Train Loss 2.21: 100%|██████████| 25/25 [00:00<00:00, 433.42it/s]\n",
            "Epoch: 331/500 Train Loss 2.22: 100%|██████████| 25/25 [00:00<00:00, 404.44it/s]\n",
            "Epoch: 332/500 Train Loss 1.93:   0%|          | 0/25 [00:00<?, ?it/s]"
          ],
          "name": "stderr"
        },
        {
          "output_type": "stream",
          "text": [
            "Validation Loss: 14.65\n",
            "Validation Loss: 14.65\n",
            "Validation Loss: 14.65\n"
          ],
          "name": "stdout"
        },
        {
          "output_type": "stream",
          "text": [
            "Epoch: 332/500 Train Loss 2.22: 100%|██████████| 25/25 [00:00<00:00, 454.64it/s]\n",
            "Epoch: 333/500 Train Loss 2.22: 100%|██████████| 25/25 [00:00<00:00, 502.76it/s]\n",
            "Epoch: 334/500 Train Loss 2.22: 100%|██████████| 25/25 [00:00<00:00, 495.16it/s]\n",
            "Epoch: 335/500 Train Loss 1.80:   0%|          | 0/25 [00:00<?, ?it/s]"
          ],
          "name": "stderr"
        },
        {
          "output_type": "stream",
          "text": [
            "Validation Loss: 14.66\n",
            "Validation Loss: 14.66\n",
            "Validation Loss: 14.66\n"
          ],
          "name": "stdout"
        },
        {
          "output_type": "stream",
          "text": [
            "Epoch: 335/500 Train Loss 2.22: 100%|██████████| 25/25 [00:00<00:00, 316.30it/s]\n",
            "Epoch: 336/500 Train Loss 2.22: 100%|██████████| 25/25 [00:00<00:00, 463.59it/s]\n",
            "Epoch: 337/500 Train Loss 2.22: 100%|██████████| 25/25 [00:00<00:00, 405.96it/s]\n",
            "Epoch: 338/500 Train Loss 1.63:   0%|          | 0/25 [00:00<?, ?it/s]"
          ],
          "name": "stderr"
        },
        {
          "output_type": "stream",
          "text": [
            "Validation Loss: 14.66\n",
            "Validation Loss: 14.66\n",
            "Validation Loss: 14.67\n"
          ],
          "name": "stdout"
        },
        {
          "output_type": "stream",
          "text": [
            "Epoch: 338/500 Train Loss 2.22: 100%|██████████| 25/25 [00:00<00:00, 290.38it/s]\n",
            "Epoch: 339/500 Train Loss 2.22: 100%|██████████| 25/25 [00:00<00:00, 461.59it/s]\n",
            "Epoch: 340/500 Train Loss 2.22: 100%|██████████| 25/25 [00:00<00:00, 385.67it/s]\n",
            "Epoch: 341/500 Train Loss 2.00:   0%|          | 0/25 [00:00<?, ?it/s]"
          ],
          "name": "stderr"
        },
        {
          "output_type": "stream",
          "text": [
            "Validation Loss: 14.67\n",
            "Validation Loss: 14.67\n",
            "Validation Loss: 14.67\n"
          ],
          "name": "stdout"
        },
        {
          "output_type": "stream",
          "text": [
            "Epoch: 341/500 Train Loss 2.22: 100%|██████████| 25/25 [00:00<00:00, 386.30it/s]\n",
            "Epoch: 342/500 Train Loss 2.23: 100%|██████████| 25/25 [00:00<00:00, 398.46it/s]\n",
            "Epoch: 343/500 Train Loss 2.23: 100%|██████████| 25/25 [00:00<00:00, 370.88it/s]\n",
            "Epoch: 344/500 Train Loss 0.52:   0%|          | 0/25 [00:00<?, ?it/s]"
          ],
          "name": "stderr"
        },
        {
          "output_type": "stream",
          "text": [
            "Validation Loss: 14.67\n",
            "Validation Loss: 14.67\n",
            "Validation Loss: 14.68\n"
          ],
          "name": "stdout"
        },
        {
          "output_type": "stream",
          "text": [
            "Epoch: 344/500 Train Loss 2.23: 100%|██████████| 25/25 [00:00<00:00, 380.29it/s]\n",
            "Epoch: 345/500 Train Loss 2.23: 100%|██████████| 25/25 [00:00<00:00, 400.10it/s]\n",
            "Epoch: 346/500 Train Loss 2.23: 100%|██████████| 25/25 [00:00<00:00, 447.82it/s]\n",
            "Epoch: 347/500 Train Loss 1.07:   0%|          | 0/25 [00:00<?, ?it/s]"
          ],
          "name": "stderr"
        },
        {
          "output_type": "stream",
          "text": [
            "Validation Loss: 14.68\n",
            "Validation Loss: 14.68\n",
            "Validation Loss: 14.68\n"
          ],
          "name": "stdout"
        },
        {
          "output_type": "stream",
          "text": [
            "Epoch: 347/500 Train Loss 2.23: 100%|██████████| 25/25 [00:00<00:00, 372.14it/s]\n",
            "Epoch: 348/500 Train Loss 2.23: 100%|██████████| 25/25 [00:00<00:00, 455.24it/s]\n",
            "Epoch: 349/500 Train Loss 2.23: 100%|██████████| 25/25 [00:00<00:00, 464.75it/s]\n",
            "Epoch: 350/500 Train Loss 1.94:   0%|          | 0/25 [00:00<?, ?it/s]"
          ],
          "name": "stderr"
        },
        {
          "output_type": "stream",
          "text": [
            "Validation Loss: 14.68\n",
            "Validation Loss: 14.69\n",
            "Validation Loss: 14.69\n"
          ],
          "name": "stdout"
        },
        {
          "output_type": "stream",
          "text": [
            "Epoch: 350/500 Train Loss 2.23: 100%|██████████| 25/25 [00:00<00:00, 372.31it/s]\n",
            "Epoch: 351/500 Train Loss 2.23: 100%|██████████| 25/25 [00:00<00:00, 321.38it/s]\n",
            "Epoch: 352/500 Train Loss 2.23: 100%|██████████| 25/25 [00:00<00:00, 433.74it/s]\n",
            "Epoch: 353/500 Train Loss 1.94:   0%|          | 0/25 [00:00<?, ?it/s]"
          ],
          "name": "stderr"
        },
        {
          "output_type": "stream",
          "text": [
            "Validation Loss: 14.69\n",
            "Validation Loss: 14.69\n",
            "Validation Loss: 14.69\n"
          ],
          "name": "stdout"
        },
        {
          "output_type": "stream",
          "text": [
            "Epoch: 353/500 Train Loss 2.23: 100%|██████████| 25/25 [00:00<00:00, 479.77it/s]\n",
            "Epoch: 354/500 Train Loss 2.23: 100%|██████████| 25/25 [00:00<00:00, 297.07it/s]\n",
            "Epoch: 355/500 Train Loss 2.24: 100%|██████████| 25/25 [00:00<00:00, 411.51it/s]\n",
            "Epoch: 356/500 Train Loss 0.61:   0%|          | 0/25 [00:00<?, ?it/s]"
          ],
          "name": "stderr"
        },
        {
          "output_type": "stream",
          "text": [
            "Validation Loss: 14.69\n",
            "Validation Loss: 14.70\n",
            "Validation Loss: 14.70\n"
          ],
          "name": "stdout"
        },
        {
          "output_type": "stream",
          "text": [
            "Epoch: 356/500 Train Loss 2.24: 100%|██████████| 25/25 [00:00<00:00, 443.50it/s]\n",
            "Epoch: 357/500 Train Loss 2.24: 100%|██████████| 25/25 [00:00<00:00, 439.40it/s]\n",
            "Epoch: 358/500 Train Loss 2.24: 100%|██████████| 25/25 [00:00<00:00, 416.51it/s]\n",
            "Epoch: 359/500 Train Loss 2.01:   0%|          | 0/25 [00:00<?, ?it/s]"
          ],
          "name": "stderr"
        },
        {
          "output_type": "stream",
          "text": [
            "Validation Loss: 14.70\n",
            "Validation Loss: 14.70\n",
            "Validation Loss: 14.70\n"
          ],
          "name": "stdout"
        },
        {
          "output_type": "stream",
          "text": [
            "Epoch: 359/500 Train Loss 2.24: 100%|██████████| 25/25 [00:00<00:00, 380.13it/s]\n",
            "Epoch: 360/500 Train Loss 2.24: 100%|██████████| 25/25 [00:00<00:00, 374.67it/s]\n",
            "Epoch: 361/500 Train Loss 2.24: 100%|██████████| 25/25 [00:00<00:00, 246.57it/s]"
          ],
          "name": "stderr"
        },
        {
          "output_type": "stream",
          "text": [
            "Validation Loss: 14.70\n",
            "Validation Loss: 14.71\n"
          ],
          "name": "stdout"
        },
        {
          "output_type": "stream",
          "text": [
            "Epoch: 361/500 Train Loss 2.24: 100%|██████████| 25/25 [00:00<00:00, 241.97it/s]\n",
            "Epoch: 362/500 Train Loss 2.24: 100%|██████████| 25/25 [00:00<00:00, 415.38it/s]\n",
            "Epoch: 363/500 Train Loss 2.24: 100%|██████████| 25/25 [00:00<00:00, 291.55it/s]\n",
            "Epoch: 364/500 Train Loss 2.57:   0%|          | 0/25 [00:00<?, ?it/s]"
          ],
          "name": "stderr"
        },
        {
          "output_type": "stream",
          "text": [
            "Validation Loss: 14.71\n",
            "Validation Loss: 14.71\n",
            "Validation Loss: 14.71\n"
          ],
          "name": "stdout"
        },
        {
          "output_type": "stream",
          "text": [
            "Epoch: 364/500 Train Loss 2.24: 100%|██████████| 25/25 [00:00<00:00, 320.79it/s]\n",
            "Epoch: 365/500 Train Loss 2.24: 100%|██████████| 25/25 [00:00<00:00, 415.57it/s]\n",
            "Epoch: 366/500 Train Loss 2.24: 100%|██████████| 25/25 [00:00<00:00, 343.15it/s]\n",
            "Epoch: 367/500 Train Loss 1.81:   0%|          | 0/25 [00:00<?, ?it/s]"
          ],
          "name": "stderr"
        },
        {
          "output_type": "stream",
          "text": [
            "Validation Loss: 14.71\n",
            "Validation Loss: 14.71\n",
            "Validation Loss: 14.72\n"
          ],
          "name": "stdout"
        },
        {
          "output_type": "stream",
          "text": [
            "Epoch: 367/500 Train Loss 2.24: 100%|██████████| 25/25 [00:00<00:00, 408.75it/s]\n",
            "Epoch: 368/500 Train Loss 2.24: 100%|██████████| 25/25 [00:00<00:00, 418.37it/s]\n",
            "Epoch: 369/500 Train Loss 2.25: 100%|██████████| 25/25 [00:00<00:00, 408.60it/s]\n",
            "Epoch: 370/500 Train Loss 1.06:   0%|          | 0/25 [00:00<?, ?it/s]"
          ],
          "name": "stderr"
        },
        {
          "output_type": "stream",
          "text": [
            "Validation Loss: 14.72\n",
            "Validation Loss: 14.72\n",
            "Validation Loss: 14.72\n"
          ],
          "name": "stdout"
        },
        {
          "output_type": "stream",
          "text": [
            "Epoch: 370/500 Train Loss 2.25: 100%|██████████| 25/25 [00:00<00:00, 363.20it/s]\n",
            "Epoch: 371/500 Train Loss 2.25: 100%|██████████| 25/25 [00:00<00:00, 463.46it/s]\n",
            "Epoch: 372/500 Train Loss 2.25: 100%|██████████| 25/25 [00:00<00:00, 378.60it/s]\n",
            "Epoch: 373/500 Train Loss 0.41:   0%|          | 0/25 [00:00<?, ?it/s]"
          ],
          "name": "stderr"
        },
        {
          "output_type": "stream",
          "text": [
            "Validation Loss: 14.72\n",
            "Validation Loss: 14.72\n",
            "Validation Loss: 14.73\n"
          ],
          "name": "stdout"
        },
        {
          "output_type": "stream",
          "text": [
            "Epoch: 373/500 Train Loss 2.25: 100%|██████████| 25/25 [00:00<00:00, 441.28it/s]\n",
            "Epoch: 374/500 Train Loss 2.25: 100%|██████████| 25/25 [00:00<00:00, 358.70it/s]\n",
            "Epoch: 375/500 Train Loss 2.25: 100%|██████████| 25/25 [00:00<00:00, 259.20it/s]\n"
          ],
          "name": "stderr"
        },
        {
          "output_type": "stream",
          "text": [
            "Validation Loss: 14.73\n",
            "Validation Loss: 14.73\n"
          ],
          "name": "stdout"
        },
        {
          "output_type": "stream",
          "text": [
            "Epoch: 376/500 Train Loss 2.25: 100%|██████████| 25/25 [00:00<00:00, 265.69it/s]\n",
            "Epoch: 377/500 Train Loss 2.25: 100%|██████████| 25/25 [00:00<00:00, 329.21it/s]\n",
            "Epoch: 378/500 Train Loss 1.84:   0%|          | 0/25 [00:00<?, ?it/s]"
          ],
          "name": "stderr"
        },
        {
          "output_type": "stream",
          "text": [
            "Validation Loss: 14.73\n",
            "Validation Loss: 14.73\n",
            "Validation Loss: 14.73\n"
          ],
          "name": "stdout"
        },
        {
          "output_type": "stream",
          "text": [
            "Epoch: 378/500 Train Loss 2.25: 100%|██████████| 25/25 [00:00<00:00, 390.44it/s]\n",
            "Epoch: 379/500 Train Loss 1.83:   0%|          | 0/25 [00:00<?, ?it/s]IOPub message rate exceeded.\n",
            "The notebook server will temporarily stop sending output\n",
            "to the client in order to avoid crashing it.\n",
            "To change this limit, set the config variable\n",
            "`--NotebookApp.iopub_msg_rate_limit`.\n",
            "\n",
            "Current values:\n",
            "NotebookApp.iopub_msg_rate_limit=1000.0 (msgs/sec)\n",
            "NotebookApp.rate_limit_window=3.0 (secs)\n",
            "\n",
            "Epoch: 424/500 Train Loss 2.27: 100%|██████████| 25/25 [00:00<00:00, 275.78it/s]\n"
          ],
          "name": "stderr"
        },
        {
          "output_type": "stream",
          "text": [
            "Validation Loss: 14.79\n",
            "Validation Loss: 14.79\n",
            "Validation Loss: 14.79\n"
          ],
          "name": "stdout"
        },
        {
          "output_type": "stream",
          "text": [
            "Epoch: 425/500 Train Loss 2.27: 100%|██████████| 25/25 [00:00<00:00, 377.29it/s]\n",
            "Epoch: 426/500 Train Loss 2.28: 100%|██████████| 25/25 [00:00<00:00, 373.44it/s]\n",
            "Epoch: 427/500 Train Loss 2.28: 100%|██████████| 25/25 [00:00<00:00, 338.13it/s]\n",
            "Epoch: 428/500 Train Loss 1.17:   0%|          | 0/25 [00:00<?, ?it/s]"
          ],
          "name": "stderr"
        },
        {
          "output_type": "stream",
          "text": [
            "Validation Loss: 14.79\n",
            "Validation Loss: 14.79\n",
            "Validation Loss: 14.79\n"
          ],
          "name": "stdout"
        },
        {
          "output_type": "stream",
          "text": [
            "Epoch: 428/500 Train Loss 2.28: 100%|██████████| 25/25 [00:00<00:00, 411.15it/s]\n",
            "Epoch: 429/500 Train Loss 2.28: 100%|██████████| 25/25 [00:00<00:00, 399.38it/s]\n",
            "Epoch: 430/500 Train Loss 2.28: 100%|██████████| 25/25 [00:00<00:00, 404.62it/s]\n",
            "Epoch: 431/500 Train Loss 0.63:   0%|          | 0/25 [00:00<?, ?it/s]"
          ],
          "name": "stderr"
        },
        {
          "output_type": "stream",
          "text": [
            "Validation Loss: 14.79\n",
            "Validation Loss: 14.80\n",
            "Validation Loss: 14.80\n"
          ],
          "name": "stdout"
        },
        {
          "output_type": "stream",
          "text": [
            "Epoch: 431/500 Train Loss 2.28: 100%|██████████| 25/25 [00:00<00:00, 408.72it/s]\n",
            "Epoch: 432/500 Train Loss 2.28: 100%|██████████| 25/25 [00:00<00:00, 441.72it/s]\n",
            "Epoch: 433/500 Train Loss 2.28: 100%|██████████| 25/25 [00:00<00:00, 366.66it/s]\n",
            "Epoch: 434/500 Train Loss 1.59:   0%|          | 0/25 [00:00<?, ?it/s]"
          ],
          "name": "stderr"
        },
        {
          "output_type": "stream",
          "text": [
            "Validation Loss: 14.80\n",
            "Validation Loss: 14.80\n",
            "Validation Loss: 14.80\n"
          ],
          "name": "stdout"
        },
        {
          "output_type": "stream",
          "text": [
            "Epoch: 434/500 Train Loss 2.28: 100%|██████████| 25/25 [00:00<00:00, 416.97it/s]\n",
            "Epoch: 435/500 Train Loss 2.28: 100%|██████████| 25/25 [00:00<00:00, 424.79it/s]\n",
            "Epoch: 436/500 Train Loss 2.28: 100%|██████████| 25/25 [00:00<00:00, 400.72it/s]\n",
            "Epoch: 437/500 Train Loss 1.05:   0%|          | 0/25 [00:00<?, ?it/s]"
          ],
          "name": "stderr"
        },
        {
          "output_type": "stream",
          "text": [
            "Validation Loss: 14.80\n",
            "Validation Loss: 14.80\n",
            "Validation Loss: 14.80\n"
          ],
          "name": "stdout"
        },
        {
          "output_type": "stream",
          "text": [
            "Epoch: 437/500 Train Loss 2.28: 100%|██████████| 25/25 [00:00<00:00, 320.66it/s]\n",
            "Epoch: 438/500 Train Loss 2.28: 100%|██████████| 25/25 [00:00<00:00, 388.97it/s]\n",
            "Epoch: 439/500 Train Loss 2.28: 100%|██████████| 25/25 [00:00<00:00, 351.73it/s]\n",
            "Epoch: 440/500 Train Loss 1.79:   0%|          | 0/25 [00:00<?, ?it/s]"
          ],
          "name": "stderr"
        },
        {
          "output_type": "stream",
          "text": [
            "Validation Loss: 14.80\n",
            "Validation Loss: 14.80\n",
            "Validation Loss: 14.80\n"
          ],
          "name": "stdout"
        },
        {
          "output_type": "stream",
          "text": [
            "Epoch: 440/500 Train Loss 2.28: 100%|██████████| 25/25 [00:00<00:00, 446.78it/s]\n",
            "Epoch: 441/500 Train Loss 2.28: 100%|██████████| 25/25 [00:00<00:00, 448.44it/s]\n",
            "Epoch: 442/500 Train Loss 2.28: 100%|██████████| 25/25 [00:00<00:00, 438.78it/s]\n",
            "Epoch: 443/500 Train Loss 1.11:   0%|          | 0/25 [00:00<?, ?it/s]"
          ],
          "name": "stderr"
        },
        {
          "output_type": "stream",
          "text": [
            "Validation Loss: 14.81\n",
            "Validation Loss: 14.81\n",
            "Validation Loss: 14.81\n"
          ],
          "name": "stdout"
        },
        {
          "output_type": "stream",
          "text": [
            "Epoch: 443/500 Train Loss 2.28: 100%|██████████| 25/25 [00:00<00:00, 444.14it/s]\n",
            "Epoch: 444/500 Train Loss 2.28: 100%|██████████| 25/25 [00:00<00:00, 443.72it/s]\n",
            "Epoch: 445/500 Train Loss 2.28: 100%|██████████| 25/25 [00:00<00:00, 447.46it/s]\n",
            "Epoch: 446/500 Train Loss 1.85:   0%|          | 0/25 [00:00<?, ?it/s]"
          ],
          "name": "stderr"
        },
        {
          "output_type": "stream",
          "text": [
            "Validation Loss: 14.81\n",
            "Validation Loss: 14.81\n",
            "Validation Loss: 14.81\n"
          ],
          "name": "stdout"
        },
        {
          "output_type": "stream",
          "text": [
            "Epoch: 446/500 Train Loss 2.28: 100%|██████████| 25/25 [00:00<00:00, 399.56it/s]\n",
            "Epoch: 447/500 Train Loss 2.28: 100%|██████████| 25/25 [00:00<00:00, 414.60it/s]\n",
            "Epoch: 448/500 Train Loss 2.28: 100%|██████████| 25/25 [00:00<00:00, 424.17it/s]\n",
            "Epoch: 449/500 Train Loss 1.17:   0%|          | 0/25 [00:00<?, ?it/s]"
          ],
          "name": "stderr"
        },
        {
          "output_type": "stream",
          "text": [
            "Validation Loss: 14.81\n",
            "Validation Loss: 14.81\n",
            "Validation Loss: 14.81\n"
          ],
          "name": "stdout"
        },
        {
          "output_type": "stream",
          "text": [
            "Epoch: 449/500 Train Loss 2.28: 100%|██████████| 25/25 [00:00<00:00, 313.89it/s]\n",
            "Epoch: 450/500 Train Loss 2.28: 100%|██████████| 25/25 [00:00<00:00, 410.74it/s]\n",
            "Epoch: 451/500 Train Loss 2.28: 100%|██████████| 25/25 [00:00<00:00, 421.41it/s]\n",
            "Epoch: 452/500 Train Loss 1.17:   0%|          | 0/25 [00:00<?, ?it/s]"
          ],
          "name": "stderr"
        },
        {
          "output_type": "stream",
          "text": [
            "Validation Loss: 14.81\n",
            "Validation Loss: 14.81\n",
            "Validation Loss: 14.81\n"
          ],
          "name": "stdout"
        },
        {
          "output_type": "stream",
          "text": [
            "Epoch: 452/500 Train Loss 2.28: 100%|██████████| 25/25 [00:00<00:00, 315.49it/s]\n",
            "Epoch: 453/500 Train Loss 2.29: 100%|██████████| 25/25 [00:00<00:00, 405.05it/s]\n",
            "Epoch: 454/500 Train Loss 2.29: 100%|██████████| 25/25 [00:00<00:00, 397.34it/s]\n",
            "Epoch: 455/500 Train Loss 1.59:   0%|          | 0/25 [00:00<?, ?it/s]"
          ],
          "name": "stderr"
        },
        {
          "output_type": "stream",
          "text": [
            "Validation Loss: 14.82\n",
            "Validation Loss: 14.82\n",
            "Validation Loss: 14.82\n"
          ],
          "name": "stdout"
        },
        {
          "output_type": "stream",
          "text": [
            "Epoch: 455/500 Train Loss 2.29: 100%|██████████| 25/25 [00:00<00:00, 404.82it/s]\n",
            "Epoch: 456/500 Train Loss 2.29: 100%|██████████| 25/25 [00:00<00:00, 378.84it/s]\n",
            "Epoch: 457/500 Train Loss 2.29: 100%|██████████| 25/25 [00:00<00:00, 381.11it/s]\n",
            "Epoch: 458/500 Train Loss 0.64:   0%|          | 0/25 [00:00<?, ?it/s]"
          ],
          "name": "stderr"
        },
        {
          "output_type": "stream",
          "text": [
            "Validation Loss: 14.82\n",
            "Validation Loss: 14.82\n",
            "Validation Loss: 14.82\n"
          ],
          "name": "stdout"
        },
        {
          "output_type": "stream",
          "text": [
            "Epoch: 458/500 Train Loss 2.29: 100%|██████████| 25/25 [00:00<00:00, 423.69it/s]\n",
            "Epoch: 459/500 Train Loss 2.29: 100%|██████████| 25/25 [00:00<00:00, 443.87it/s]\n",
            "Epoch: 460/500 Train Loss 2.29: 100%|██████████| 25/25 [00:00<00:00, 401.59it/s]\n",
            "Epoch: 461/500 Train Loss 1.59:   0%|          | 0/25 [00:00<?, ?it/s]"
          ],
          "name": "stderr"
        },
        {
          "output_type": "stream",
          "text": [
            "Validation Loss: 14.82\n",
            "Validation Loss: 14.82\n",
            "Validation Loss: 14.82\n"
          ],
          "name": "stdout"
        },
        {
          "output_type": "stream",
          "text": [
            "Epoch: 461/500 Train Loss 2.29: 100%|██████████| 25/25 [00:00<00:00, 414.20it/s]\n",
            "Epoch: 462/500 Train Loss 2.29: 100%|██████████| 25/25 [00:00<00:00, 432.18it/s]\n",
            "Epoch: 463/500 Train Loss 2.29: 100%|██████████| 25/25 [00:00<00:00, 477.97it/s]\n",
            "Epoch: 464/500 Train Loss 0.69:   0%|          | 0/25 [00:00<?, ?it/s]"
          ],
          "name": "stderr"
        },
        {
          "output_type": "stream",
          "text": [
            "Validation Loss: 14.82\n",
            "Validation Loss: 14.82\n",
            "Validation Loss: 14.82\n"
          ],
          "name": "stdout"
        },
        {
          "output_type": "stream",
          "text": [
            "Epoch: 464/500 Train Loss 2.29: 100%|██████████| 25/25 [00:00<00:00, 403.23it/s]\n",
            "Epoch: 465/500 Train Loss 2.29: 100%|██████████| 25/25 [00:00<00:00, 432.04it/s]\n",
            "Epoch: 466/500 Train Loss 2.29: 100%|██████████| 25/25 [00:00<00:00, 392.35it/s]\n",
            "Epoch: 467/500 Train Loss 0.54:   0%|          | 0/25 [00:00<?, ?it/s]"
          ],
          "name": "stderr"
        },
        {
          "output_type": "stream",
          "text": [
            "Validation Loss: 14.82\n",
            "Validation Loss: 14.83\n",
            "Validation Loss: 14.83\n"
          ],
          "name": "stdout"
        },
        {
          "output_type": "stream",
          "text": [
            "Epoch: 467/500 Train Loss 2.29: 100%|██████████| 25/25 [00:00<00:00, 375.36it/s]\n",
            "Epoch: 468/500 Train Loss 2.29: 100%|██████████| 25/25 [00:00<00:00, 403.50it/s]\n",
            "Epoch: 469/500 Train Loss 2.29: 100%|██████████| 25/25 [00:00<00:00, 357.73it/s]\n",
            "Epoch: 470/500 Train Loss 1.16:   0%|          | 0/25 [00:00<?, ?it/s]"
          ],
          "name": "stderr"
        },
        {
          "output_type": "stream",
          "text": [
            "Validation Loss: 14.83\n",
            "Validation Loss: 14.83\n",
            "Validation Loss: 14.83\n"
          ],
          "name": "stdout"
        },
        {
          "output_type": "stream",
          "text": [
            "Epoch: 470/500 Train Loss 2.29: 100%|██████████| 25/25 [00:00<00:00, 364.18it/s]\n",
            "Epoch: 471/500 Train Loss 2.29: 100%|██████████| 25/25 [00:00<00:00, 420.37it/s]\n",
            "Epoch: 472/500 Train Loss 2.29: 100%|██████████| 25/25 [00:00<00:00, 447.89it/s]\n",
            "Epoch: 473/500 Train Loss 1.96:   0%|          | 0/25 [00:00<?, ?it/s]"
          ],
          "name": "stderr"
        },
        {
          "output_type": "stream",
          "text": [
            "Validation Loss: 14.83\n",
            "Validation Loss: 14.83\n",
            "Validation Loss: 14.83\n"
          ],
          "name": "stdout"
        },
        {
          "output_type": "stream",
          "text": [
            "Epoch: 473/500 Train Loss 2.29: 100%|██████████| 25/25 [00:00<00:00, 430.06it/s]\n",
            "Epoch: 474/500 Train Loss 2.29: 100%|██████████| 25/25 [00:00<00:00, 353.10it/s]\n",
            "Epoch: 475/500 Train Loss 2.29: 100%|██████████| 25/25 [00:00<00:00, 439.22it/s]\n",
            "Epoch: 476/500 Train Loss 1.78:   0%|          | 0/25 [00:00<?, ?it/s]"
          ],
          "name": "stderr"
        },
        {
          "output_type": "stream",
          "text": [
            "Validation Loss: 14.83\n",
            "Validation Loss: 14.83\n",
            "Validation Loss: 14.83\n"
          ],
          "name": "stdout"
        },
        {
          "output_type": "stream",
          "text": [
            "Epoch: 476/500 Train Loss 2.29: 100%|██████████| 25/25 [00:00<00:00, 442.82it/s]\n",
            "Epoch: 477/500 Train Loss 2.29: 100%|██████████| 25/25 [00:00<00:00, 414.77it/s]\n",
            "Epoch: 478/500 Train Loss 2.29: 100%|██████████| 25/25 [00:00<00:00, 408.09it/s]\n",
            "Epoch: 479/500 Train Loss 2.47:   0%|          | 0/25 [00:00<?, ?it/s]"
          ],
          "name": "stderr"
        },
        {
          "output_type": "stream",
          "text": [
            "Validation Loss: 14.83\n",
            "Validation Loss: 14.83\n",
            "Validation Loss: 14.83\n"
          ],
          "name": "stdout"
        },
        {
          "output_type": "stream",
          "text": [
            "Epoch: 479/500 Train Loss 2.29: 100%|██████████| 25/25 [00:00<00:00, 352.89it/s]\n",
            "Epoch: 480/500 Train Loss 0.54:   0%|          | 0/25 [00:00<?, ?it/s]IOPub message rate exceeded.\n",
            "The notebook server will temporarily stop sending output\n",
            "to the client in order to avoid crashing it.\n",
            "To change this limit, set the config variable\n",
            "`--NotebookApp.iopub_msg_rate_limit`.\n",
            "\n",
            "Current values:\n",
            "NotebookApp.iopub_msg_rate_limit=1000.0 (msgs/sec)\n",
            "NotebookApp.rate_limit_window=3.0 (secs)\n",
            "\n"
          ],
          "name": "stderr"
        }
      ]
    },
    {
      "cell_type": "code",
      "metadata": {
        "id": "nJOr7gKaH0Th",
        "colab_type": "code",
        "colab": {
          "base_uri": "https://localhost:8080/",
          "height": 295
        },
        "outputId": "bac28887-d75c-49aa-c08f-02b804aef740"
      },
      "source": [
        "plt.plot(history[\"epochwise\"]['training_loss'])\n",
        "plt.plot(history[\"epochwise\"]['validation_loss'])\n",
        "plt.title('Model Loss')\n",
        "plt.ylabel('Loss')\n",
        "plt.xlabel('Epoch')\n",
        "plt.legend(['Training', 'Validaiton'], loc='upper left')\n",
        "plt.show()"
      ],
      "execution_count": 39,
      "outputs": [
        {
          "output_type": "display_data",
          "data": {
            "image/png": "[encoded data removed]",
            "text/plain": [
              "<Figure size 432x288 with 1 Axes>"
            ]
          },
          "metadata": {
            "tags": [],
            "needs_background": "light"
          }
        }
      ]
    },
    {
      "cell_type": "code",
      "metadata": {
        "id": "Qnsy36eRI47d",
        "colab_type": "code",
        "colab": {}
      },
      "source": [
        "preds = model.predict(X=X_test, batch_size=32)"
      ],
      "execution_count": 0,
      "outputs": []
    },
    {
      "cell_type": "code",
      "metadata": {
        "id": "POD8G0OtKjKp",
        "colab_type": "code",
        "colab": {
          "base_uri": "https://localhost:8080/",
          "height": 196
        },
        "outputId": "7b4280ec-6e34-48a6-d028-bd165f0687c3"
      },
      "source": [
        "for i in range(len(preds)):\n",
        "\tprint(f\"Predicted Value: {preds[i]} Original Value: {y_test[i][0]}\")"
      ],
      "execution_count": 41,
      "outputs": [
        {
          "output_type": "stream",
          "text": [
            "Predicted Value: 10.369060516357422 Original Value: 8.96911317293831\n",
            "Predicted Value: 11.130809783935547 Original Value: 10.757615535704376\n",
            "Predicted Value: 11.097870826721191 Original Value: 11.192286395936625\n",
            "Predicted Value: 11.26591968536377 Original Value: 10.196885667017273\n",
            "Predicted Value: 11.241775512695312 Original Value: 10.52711463063614\n",
            "Predicted Value: 6.043768882751465 Original Value: 4.573551131150901\n",
            "Predicted Value: 3.265343427658081 Original Value: 3.510148199723596\n",
            "Predicted Value: 3.0427749156951904 Original Value: 4.666466759678768\n",
            "Predicted Value: 5.013635635375977 Original Value: 7.257347724035061\n",
            "Predicted Value: 8.287816047668457 Original Value: 6.317041587148019\n"
          ],
          "name": "stdout"
        }
      ]
    },
    {
      "cell_type": "code",
      "metadata": {
        "id": "KV1HdADjKk55",
        "colab_type": "code",
        "colab": {}
      },
      "source": [
        ""
      ],
      "execution_count": 0,
      "outputs": []
    }
  ]
}